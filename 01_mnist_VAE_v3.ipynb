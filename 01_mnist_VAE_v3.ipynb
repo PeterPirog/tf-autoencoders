{
  "nbformat": 4,
  "nbformat_minor": 0,
  "metadata": {
    "colab": {
      "name": "01-mnist-VAE_v3.ipynb",
      "provenance": [],
      "collapsed_sections": [],
      "authorship_tag": "ABX9TyOSwxRgalrrFG/5N4/JWAc3",
      "include_colab_link": true
    },
    "kernelspec": {
      "name": "python3",
      "display_name": "Python 3"
    },
    "language_info": {
      "name": "python"
    },
    "accelerator": "GPU"
  },
  "cells": [
    {
      "cell_type": "markdown",
      "metadata": {
        "id": "view-in-github",
        "colab_type": "text"
      },
      "source": [
        "<a href=\"https://colab.research.google.com/github/PeterPirog/tf-autoencoders/blob/main/01_mnist_VAE_v3.ipynb\" target=\"_parent\"><img src=\"https://colab.research.google.com/assets/colab-badge.svg\" alt=\"Open In Colab\"/></a>"
      ]
    },
    {
      "cell_type": "markdown",
      "source": [
        "https://keras.io/examples/generative/vae/\n",
        "Latent vector length =3\n",
        "\n",
        "https://harvard-iacs.github.io/2019-CS109B/labs/lab10/VAE-solutions/"
      ],
      "metadata": {
        "id": "BYzxx-LJDxRh"
      }
    },
    {
      "cell_type": "code",
      "execution_count": 1,
      "metadata": {
        "id": "0MDe9j_fDpu7"
      },
      "outputs": [],
      "source": [
        "# Setup\n",
        "import numpy as np\n",
        "import tensorflow as tf\n",
        "tf.random.set_seed(42)\n",
        "\n",
        "from tensorflow import keras\n",
        "from tensorflow.keras import layers\n",
        "\n",
        "EPOCHS=1000  # for vae training\n",
        "latent_dim = 3"
      ]
    },
    {
      "cell_type": "code",
      "source": [
        "# Create a sampling layer\n",
        "\n",
        "class Sampling(layers.Layer):\n",
        "    \"\"\"Uses (z_mean, z_log_var) to sample z, the vector encoding a digit.\"\"\"\n",
        "\n",
        "    def call(self, inputs):\n",
        "        z_mean, z_log_var = inputs\n",
        "        batch = tf.shape(z_mean)[0]\n",
        "        dim = tf.shape(z_mean)[1]\n",
        "        epsilon = tf.keras.backend.random_normal(shape=(batch, dim))\n",
        "        return z_mean + tf.exp(0.5 * z_log_var) * epsilon\n"
      ],
      "metadata": {
        "id": "azwMsEScD6fJ"
      },
      "execution_count": 2,
      "outputs": []
    },
    {
      "cell_type": "code",
      "source": [
        "# Build the encoder\n",
        "\n",
        "encoder_inputs = keras.Input(shape=(28, 28, 1))\n",
        "x = layers.Conv2D(32, 3, activation=\"relu\", strides=2, padding=\"same\")(encoder_inputs)\n",
        "x = layers.Conv2D(64, 3, activation=\"relu\", strides=2, padding=\"same\")(x)\n",
        "x = layers.Flatten()(x)\n",
        "x = layers.Dense(16, activation=\"relu\")(x)\n",
        "z_mean = layers.Dense(latent_dim, name=\"z_mean\")(x)\n",
        "z_log_var = layers.Dense(latent_dim, name=\"z_log_var\")(x)\n",
        "z = Sampling()([z_mean, z_log_var])\n",
        "encoder = keras.Model(encoder_inputs, [z_mean, z_log_var, z], name=\"encoder\")\n",
        "encoder.summary()\n"
      ],
      "metadata": {
        "colab": {
          "base_uri": "https://localhost:8080/"
        },
        "id": "jLxM8eNaD-6a",
        "outputId": "945b1509-8234-41b2-c0fd-afb6053b6cc1"
      },
      "execution_count": 3,
      "outputs": [
        {
          "output_type": "stream",
          "name": "stdout",
          "text": [
            "Model: \"encoder\"\n",
            "__________________________________________________________________________________________________\n",
            " Layer (type)                   Output Shape         Param #     Connected to                     \n",
            "==================================================================================================\n",
            " input_1 (InputLayer)           [(None, 28, 28, 1)]  0           []                               \n",
            "                                                                                                  \n",
            " conv2d (Conv2D)                (None, 14, 14, 32)   320         ['input_1[0][0]']                \n",
            "                                                                                                  \n",
            " conv2d_1 (Conv2D)              (None, 7, 7, 64)     18496       ['conv2d[0][0]']                 \n",
            "                                                                                                  \n",
            " flatten (Flatten)              (None, 3136)         0           ['conv2d_1[0][0]']               \n",
            "                                                                                                  \n",
            " dense (Dense)                  (None, 16)           50192       ['flatten[0][0]']                \n",
            "                                                                                                  \n",
            " z_mean (Dense)                 (None, 3)            51          ['dense[0][0]']                  \n",
            "                                                                                                  \n",
            " z_log_var (Dense)              (None, 3)            51          ['dense[0][0]']                  \n",
            "                                                                                                  \n",
            " sampling (Sampling)            (None, 3)            0           ['z_mean[0][0]',                 \n",
            "                                                                  'z_log_var[0][0]']              \n",
            "                                                                                                  \n",
            "==================================================================================================\n",
            "Total params: 69,110\n",
            "Trainable params: 69,110\n",
            "Non-trainable params: 0\n",
            "__________________________________________________________________________________________________\n"
          ]
        }
      ]
    },
    {
      "cell_type": "code",
      "source": [
        "# Build the decoder\n",
        "\n",
        "latent_inputs = keras.Input(shape=(latent_dim,))\n",
        "x = layers.Dense(7 * 7 * 64, activation=\"relu\")(latent_inputs)\n",
        "x = layers.Reshape((7, 7, 64))(x)\n",
        "x = layers.Conv2DTranspose(64, 3, activation=\"relu\", strides=2, padding=\"same\")(x)\n",
        "x = layers.Conv2DTranspose(32, 3, activation=\"relu\", strides=2, padding=\"same\")(x)\n",
        "decoder_outputs = layers.Conv2DTranspose(1, 3, activation=\"sigmoid\", padding=\"same\")(x)\n",
        "decoder = keras.Model(latent_inputs, decoder_outputs, name=\"decoder\")\n",
        "decoder.summary()\n",
        "\n"
      ],
      "metadata": {
        "colab": {
          "base_uri": "https://localhost:8080/"
        },
        "id": "7BKuO7GHEDpB",
        "outputId": "b5597a5d-1018-40e0-d94f-92ebc0872588"
      },
      "execution_count": 4,
      "outputs": [
        {
          "output_type": "stream",
          "name": "stdout",
          "text": [
            "Model: \"decoder\"\n",
            "_________________________________________________________________\n",
            " Layer (type)                Output Shape              Param #   \n",
            "=================================================================\n",
            " input_2 (InputLayer)        [(None, 3)]               0         \n",
            "                                                                 \n",
            " dense_1 (Dense)             (None, 3136)              12544     \n",
            "                                                                 \n",
            " reshape (Reshape)           (None, 7, 7, 64)          0         \n",
            "                                                                 \n",
            " conv2d_transpose (Conv2DTra  (None, 14, 14, 64)       36928     \n",
            " nspose)                                                         \n",
            "                                                                 \n",
            " conv2d_transpose_1 (Conv2DT  (None, 28, 28, 32)       18464     \n",
            " ranspose)                                                       \n",
            "                                                                 \n",
            " conv2d_transpose_2 (Conv2DT  (None, 28, 28, 1)        289       \n",
            " ranspose)                                                       \n",
            "                                                                 \n",
            "=================================================================\n",
            "Total params: 68,225\n",
            "Trainable params: 68,225\n",
            "Non-trainable params: 0\n",
            "_________________________________________________________________\n"
          ]
        }
      ]
    },
    {
      "cell_type": "code",
      "source": [
        "# Define the VAE as a Model with a custom train_step\n",
        "\n",
        "class VAE(keras.Model):\n",
        "    def __init__(self, encoder, decoder, **kwargs):\n",
        "        super(VAE, self).__init__(**kwargs)\n",
        "        self.encoder = encoder\n",
        "        self.decoder = decoder\n",
        "        self.total_loss_tracker = keras.metrics.Mean(name=\"total_loss\")\n",
        "        self.reconstruction_loss_tracker = keras.metrics.Mean(\n",
        "            name=\"reconstruction_loss\"\n",
        "        )\n",
        "        self.kl_loss_tracker = keras.metrics.Mean(name=\"kl_loss\")\n",
        "\n",
        "    @property\n",
        "    def metrics(self):\n",
        "        return [\n",
        "            self.total_loss_tracker,\n",
        "            self.reconstruction_loss_tracker,\n",
        "            self.kl_loss_tracker,\n",
        "        ]\n",
        "\n",
        "    def train_step(self, data):\n",
        "        with tf.GradientTape() as tape:\n",
        "            z_mean, z_log_var, z = self.encoder(data)\n",
        "            reconstruction = self.decoder(z)\n",
        "            reconstruction_loss = tf.reduce_mean(\n",
        "                tf.reduce_sum(\n",
        "                    keras.losses.binary_crossentropy(data, reconstruction), axis=(1, 2)\n",
        "                )\n",
        "            )\n",
        "            kl_loss = -0.5 * (1 + z_log_var - tf.square(z_mean) - tf.exp(z_log_var))\n",
        "            kl_loss = tf.reduce_mean(tf.reduce_sum(kl_loss, axis=1))\n",
        "            total_loss = reconstruction_loss + kl_loss\n",
        "        grads = tape.gradient(total_loss, self.trainable_weights)\n",
        "        self.optimizer.apply_gradients(zip(grads, self.trainable_weights))\n",
        "        self.total_loss_tracker.update_state(total_loss)\n",
        "        self.reconstruction_loss_tracker.update_state(reconstruction_loss)\n",
        "        self.kl_loss_tracker.update_state(kl_loss)\n",
        "        return {\n",
        "            \"loss\": self.total_loss_tracker.result(),\n",
        "            \"reconstruction_loss\": self.reconstruction_loss_tracker.result(),\n",
        "            \"kl_loss\": self.kl_loss_tracker.result(),\n",
        "        }\n",
        "\n"
      ],
      "metadata": {
        "id": "JL5qVupYEIEi"
      },
      "execution_count": 5,
      "outputs": []
    },
    {
      "cell_type": "code",
      "source": [
        "callbacks_vae=[tf.keras.callbacks.ReduceLROnPlateau(monitor='loss', \n",
        "                                                factor=0.5,\n",
        "                                                patience=3,\n",
        "                                                min_lr=1e-5),\n",
        "           tf.keras.callbacks.EarlyStopping(monitor='loss',\n",
        "                                            patience=5)]"
      ],
      "metadata": {
        "id": "Hh6ebn3aHXL5"
      },
      "execution_count": 6,
      "outputs": []
    },
    {
      "cell_type": "code",
      "source": [
        "# Train the VAE\n",
        "\n",
        "(x_train, _), (x_test, _) = keras.datasets.mnist.load_data()\n",
        "mnist_digits = np.concatenate([x_train, x_test], axis=0)\n",
        "mnist_digits = np.expand_dims(mnist_digits, -1).astype(\"float32\") / 255\n",
        "\n",
        "vae = VAE(encoder, decoder)\n",
        "vae.compile(optimizer=keras.optimizers.Adam())\n",
        "vae.fit(mnist_digits, epochs=EPOCHS, batch_size=128,callbacks=callbacks_vae)\n",
        "\n"
      ],
      "metadata": {
        "colab": {
          "base_uri": "https://localhost:8080/"
        },
        "id": "DCe0H3MSEPsa",
        "outputId": "a2e87740-e486-4db7-f99e-86030205648d"
      },
      "execution_count": null,
      "outputs": [
        {
          "output_type": "stream",
          "name": "stdout",
          "text": [
            "Epoch 1/1000\n",
            "547/547 [==============================] - 20s 28ms/step - loss: 261.5949 - reconstruction_loss: 211.6985 - kl_loss: 2.9111 - lr: 0.0010\n",
            "Epoch 2/1000\n",
            "547/547 [==============================] - 12s 22ms/step - loss: 182.2707 - reconstruction_loss: 172.2977 - kl_loss: 5.8152 - lr: 0.0010\n",
            "Epoch 3/1000\n",
            "547/547 [==============================] - 15s 27ms/step - loss: 170.2549 - reconstruction_loss: 162.3026 - kl_loss: 6.0576 - lr: 0.0010\n",
            "Epoch 4/1000\n",
            "547/547 [==============================] - 14s 25ms/step - loss: 164.6093 - reconstruction_loss: 157.6245 - kl_loss: 6.3440 - lr: 0.0010\n",
            "Epoch 5/1000\n",
            "547/547 [==============================] - 11s 20ms/step - loss: 161.7819 - reconstruction_loss: 155.1555 - kl_loss: 6.4569 - lr: 0.0010\n",
            "Epoch 6/1000\n",
            "547/547 [==============================] - 10s 19ms/step - loss: 160.4254 - reconstruction_loss: 153.5466 - kl_loss: 6.5041 - lr: 0.0010\n",
            "Epoch 7/1000\n",
            "547/547 [==============================] - 10s 19ms/step - loss: 158.9578 - reconstruction_loss: 152.3838 - kl_loss: 6.5283 - lr: 0.0010\n",
            "Epoch 8/1000\n",
            "547/547 [==============================] - 10s 19ms/step - loss: 157.9136 - reconstruction_loss: 151.4645 - kl_loss: 6.5499 - lr: 0.0010\n",
            "Epoch 9/1000\n",
            "547/547 [==============================] - 10s 19ms/step - loss: 157.2202 - reconstruction_loss: 150.6239 - kl_loss: 6.5380 - lr: 0.0010\n",
            "Epoch 10/1000\n",
            "547/547 [==============================] - 10s 19ms/step - loss: 156.8354 - reconstruction_loss: 150.0968 - kl_loss: 6.5467 - lr: 0.0010\n",
            "Epoch 11/1000\n",
            "547/547 [==============================] - 11s 19ms/step - loss: 155.6453 - reconstruction_loss: 149.5148 - kl_loss: 6.5413 - lr: 0.0010\n",
            "Epoch 12/1000\n",
            "547/547 [==============================] - 10s 19ms/step - loss: 155.5313 - reconstruction_loss: 149.0464 - kl_loss: 6.5047 - lr: 0.0010\n",
            "Epoch 13/1000\n",
            "547/547 [==============================] - 10s 19ms/step - loss: 155.3975 - reconstruction_loss: 148.6289 - kl_loss: 6.4786 - lr: 0.0010\n",
            "Epoch 14/1000\n",
            "547/547 [==============================] - 10s 19ms/step - loss: 154.7966 - reconstruction_loss: 148.3969 - kl_loss: 6.4660 - lr: 0.0010\n",
            "Epoch 15/1000\n",
            "547/547 [==============================] - 10s 19ms/step - loss: 154.2768 - reconstruction_loss: 147.9561 - kl_loss: 6.4396 - lr: 0.0010\n",
            "Epoch 16/1000\n",
            "547/547 [==============================] - 11s 20ms/step - loss: 153.6534 - reconstruction_loss: 147.6201 - kl_loss: 6.4152 - lr: 0.0010\n",
            "Epoch 17/1000\n",
            "547/547 [==============================] - 10s 19ms/step - loss: 153.5402 - reconstruction_loss: 147.4530 - kl_loss: 6.3849 - lr: 0.0010\n",
            "Epoch 18/1000\n",
            "547/547 [==============================] - 10s 19ms/step - loss: 153.7410 - reconstruction_loss: 147.2173 - kl_loss: 6.3701 - lr: 0.0010\n",
            "Epoch 19/1000\n",
            "547/547 [==============================] - 10s 19ms/step - loss: 153.3932 - reconstruction_loss: 146.8743 - kl_loss: 6.3690 - lr: 0.0010\n",
            "Epoch 20/1000\n",
            "547/547 [==============================] - 10s 18ms/step - loss: 153.0574 - reconstruction_loss: 146.7406 - kl_loss: 6.3327 - lr: 0.0010\n",
            "Epoch 21/1000\n",
            "547/547 [==============================] - 11s 19ms/step - loss: 152.4017 - reconstruction_loss: 146.5658 - kl_loss: 6.3447 - lr: 0.0010\n",
            "Epoch 22/1000\n",
            "547/547 [==============================] - 10s 19ms/step - loss: 152.4928 - reconstruction_loss: 146.2990 - kl_loss: 6.3323 - lr: 0.0010\n",
            "Epoch 23/1000\n",
            "547/547 [==============================] - 10s 19ms/step - loss: 152.3085 - reconstruction_loss: 146.2179 - kl_loss: 6.3144 - lr: 0.0010\n",
            "Epoch 24/1000\n",
            "547/547 [==============================] - 10s 19ms/step - loss: 152.1603 - reconstruction_loss: 146.1012 - kl_loss: 6.3219 - lr: 0.0010\n",
            "Epoch 25/1000\n",
            "547/547 [==============================] - 10s 19ms/step - loss: 152.3042 - reconstruction_loss: 145.8826 - kl_loss: 6.3201 - lr: 0.0010\n",
            "Epoch 26/1000\n",
            "547/547 [==============================] - 10s 19ms/step - loss: 151.7779 - reconstruction_loss: 145.7481 - kl_loss: 6.3085 - lr: 0.0010\n",
            "Epoch 27/1000\n",
            "547/547 [==============================] - 10s 19ms/step - loss: 152.0839 - reconstruction_loss: 145.5925 - kl_loss: 6.3027 - lr: 0.0010\n",
            "Epoch 28/1000\n",
            "547/547 [==============================] - 10s 19ms/step - loss: 151.7858 - reconstruction_loss: 145.4974 - kl_loss: 6.2901 - lr: 0.0010\n",
            "Epoch 29/1000\n",
            "547/547 [==============================] - 10s 19ms/step - loss: 151.2423 - reconstruction_loss: 145.3375 - kl_loss: 6.2975 - lr: 0.0010\n",
            "Epoch 30/1000\n",
            "547/547 [==============================] - 10s 19ms/step - loss: 151.4881 - reconstruction_loss: 145.2238 - kl_loss: 6.3071 - lr: 0.0010\n",
            "Epoch 31/1000\n",
            "547/547 [==============================] - 10s 19ms/step - loss: 151.5587 - reconstruction_loss: 145.0841 - kl_loss: 6.3011 - lr: 0.0010\n",
            "Epoch 32/1000\n",
            "547/547 [==============================] - 11s 19ms/step - loss: 150.8473 - reconstruction_loss: 145.1602 - kl_loss: 6.2872 - lr: 0.0010\n",
            "Epoch 33/1000\n",
            "547/547 [==============================] - 10s 19ms/step - loss: 151.1620 - reconstruction_loss: 144.8281 - kl_loss: 6.3135 - lr: 0.0010\n",
            "Epoch 34/1000\n",
            "547/547 [==============================] - 10s 19ms/step - loss: 150.9818 - reconstruction_loss: 144.7707 - kl_loss: 6.3063 - lr: 0.0010\n",
            "Epoch 35/1000\n",
            "547/547 [==============================] - 10s 19ms/step - loss: 150.9274 - reconstruction_loss: 144.7461 - kl_loss: 6.3150 - lr: 0.0010\n",
            "Epoch 36/1000\n",
            "547/547 [==============================] - 10s 19ms/step - loss: 150.3835 - reconstruction_loss: 144.5462 - kl_loss: 6.3114 - lr: 0.0010\n",
            "Epoch 37/1000\n",
            "547/547 [==============================] - 10s 19ms/step - loss: 150.8722 - reconstruction_loss: 144.5406 - kl_loss: 6.3190 - lr: 0.0010\n",
            "Epoch 38/1000\n",
            "547/547 [==============================] - 10s 19ms/step - loss: 150.5450 - reconstruction_loss: 144.5397 - kl_loss: 6.3027 - lr: 0.0010\n",
            "Epoch 39/1000\n",
            "547/547 [==============================] - 10s 19ms/step - loss: 150.4840 - reconstruction_loss: 144.2859 - kl_loss: 6.3080 - lr: 0.0010\n",
            "Epoch 40/1000\n",
            "547/547 [==============================] - 10s 19ms/step - loss: 150.5691 - reconstruction_loss: 144.3256 - kl_loss: 6.3278 - lr: 0.0010\n",
            "Epoch 41/1000\n",
            "547/547 [==============================] - 10s 19ms/step - loss: 150.5933 - reconstruction_loss: 144.1942 - kl_loss: 6.3225 - lr: 0.0010\n",
            "Epoch 42/1000\n",
            "547/547 [==============================] - 10s 19ms/step - loss: 150.7031 - reconstruction_loss: 144.0803 - kl_loss: 6.3230 - lr: 0.0010\n",
            "Epoch 43/1000\n",
            "547/547 [==============================] - 10s 19ms/step - loss: 150.3662 - reconstruction_loss: 144.0528 - kl_loss: 6.3190 - lr: 0.0010\n",
            "Epoch 44/1000\n",
            "547/547 [==============================] - 10s 19ms/step - loss: 150.0961 - reconstruction_loss: 143.9874 - kl_loss: 6.3221 - lr: 0.0010\n",
            "Epoch 45/1000\n",
            "547/547 [==============================] - 10s 19ms/step - loss: 150.5409 - reconstruction_loss: 143.8961 - kl_loss: 6.3276 - lr: 0.0010\n",
            "Epoch 46/1000\n",
            "547/547 [==============================] - 10s 19ms/step - loss: 150.0786 - reconstruction_loss: 143.8271 - kl_loss: 6.3363 - lr: 0.0010\n",
            "Epoch 47/1000\n",
            "547/547 [==============================] - 10s 19ms/step - loss: 150.0688 - reconstruction_loss: 143.7513 - kl_loss: 6.3393 - lr: 0.0010\n",
            "Epoch 48/1000\n",
            "547/547 [==============================] - 10s 19ms/step - loss: 150.2280 - reconstruction_loss: 143.7310 - kl_loss: 6.3434 - lr: 0.0010\n",
            "Epoch 49/1000\n",
            "547/547 [==============================] - 10s 19ms/step - loss: 149.8631 - reconstruction_loss: 143.5985 - kl_loss: 6.3315 - lr: 0.0010\n",
            "Epoch 50/1000\n",
            "547/547 [==============================] - 10s 19ms/step - loss: 149.7427 - reconstruction_loss: 143.4793 - kl_loss: 6.3260 - lr: 0.0010\n",
            "Epoch 51/1000\n",
            "547/547 [==============================] - 10s 19ms/step - loss: 149.8759 - reconstruction_loss: 143.5461 - kl_loss: 6.3379 - lr: 0.0010\n",
            "Epoch 52/1000\n",
            "547/547 [==============================] - 10s 19ms/step - loss: 149.6692 - reconstruction_loss: 143.3967 - kl_loss: 6.3432 - lr: 0.0010\n",
            "Epoch 53/1000\n",
            "547/547 [==============================] - 10s 19ms/step - loss: 149.3770 - reconstruction_loss: 143.4242 - kl_loss: 6.3427 - lr: 0.0010\n",
            "Epoch 54/1000\n",
            "547/547 [==============================] - 10s 19ms/step - loss: 149.5843 - reconstruction_loss: 143.2596 - kl_loss: 6.3449 - lr: 0.0010\n",
            "Epoch 55/1000\n",
            "547/547 [==============================] - 10s 19ms/step - loss: 149.4827 - reconstruction_loss: 143.2781 - kl_loss: 6.3580 - lr: 0.0010\n",
            "Epoch 56/1000\n",
            "547/547 [==============================] - 10s 19ms/step - loss: 149.5530 - reconstruction_loss: 143.1665 - kl_loss: 6.3543 - lr: 0.0010\n",
            "Epoch 57/1000\n",
            "547/547 [==============================] - 10s 19ms/step - loss: 149.3923 - reconstruction_loss: 143.1711 - kl_loss: 6.3465 - lr: 0.0010\n",
            "Epoch 58/1000\n",
            "547/547 [==============================] - 10s 19ms/step - loss: 149.4001 - reconstruction_loss: 143.1628 - kl_loss: 6.3631 - lr: 0.0010\n",
            "Epoch 59/1000\n",
            "469/547 [========================>.....] - ETA: 1s - loss: 149.3836 - reconstruction_loss: 143.0477 - kl_loss: 6.3573"
          ]
        }
      ]
    },
    {
      "cell_type": "code",
      "source": [
        "(x_train, y_train), (x_test, y_test) = keras.datasets.mnist.load_data()\n",
        "\n",
        "#Train data\n",
        "x_train = np.expand_dims(x_train, -1).astype(\"float32\") / 255\n",
        "z_mean_train, _, _ = vae.encoder.predict(x_train)\n",
        "\n",
        "#Test data\n",
        "x_test = np.expand_dims(x_test, -1).astype(\"float32\") / 255\n",
        "z_mean_test, _, _ = vae.encoder.predict(x_test)\n",
        "\n",
        "z_mean_train.shape\n",
        "\n"
      ],
      "metadata": {
        "id": "c0UhR8QlJ-UK"
      },
      "execution_count": null,
      "outputs": []
    },
    {
      "cell_type": "code",
      "source": [
        "model=keras.models.Sequential()\n",
        "model.add(keras.Input(shape=z_mean_train.shape[1:]))\n",
        "model.add(keras.layers.Dense(30,activation='relu'))\n",
        "model.add(keras.layers.Dense(10,activation='softmax'))"
      ],
      "metadata": {
        "id": "rZ2d5knMK93J"
      },
      "execution_count": null,
      "outputs": []
    },
    {
      "cell_type": "code",
      "source": [
        "callbacks=[tf.keras.callbacks.ReduceLROnPlateau(monitor='val_loss', #val_loss\n",
        "                                                factor=0.5,\n",
        "                                                patience=3,\n",
        "                                                min_lr=1e-5),\n",
        "           tf.keras.callbacks.EarlyStopping(monitor='val_loss',\n",
        "                                            patience=5),\n",
        "           tf.keras.callbacks.ModelCheckpoint(filepath='my_model.h5',\n",
        "                                              monitor='val_loss',\n",
        "                                              save_best_only=True)]"
      ],
      "metadata": {
        "id": "hx8Miq7CdqQP"
      },
      "execution_count": null,
      "outputs": []
    },
    {
      "cell_type": "code",
      "source": [
        "model.compile(loss=keras.losses.SparseCategoricalCrossentropy(),\n",
        "              optimizer=keras.optimizers.Adam(lr=0.001),\n",
        "              metrics=[keras.metrics.SparseCategoricalAccuracy()]) # "
      ],
      "metadata": {
        "id": "GgSDLEghN5B_"
      },
      "execution_count": null,
      "outputs": []
    },
    {
      "cell_type": "code",
      "source": [
        "history=model.fit(x=z_mean_train,y=y_train,\n",
        "          epochs=100,\n",
        "          batch_size=32,\n",
        "          validation_data=(z_mean_test,y_test),\n",
        "          callbacks=callbacks) #"
      ],
      "metadata": {
        "id": "0KB0PqkKOLF8"
      },
      "execution_count": null,
      "outputs": []
    },
    {
      "cell_type": "code",
      "source": [
        "print(history.history.keys())\n",
        "\n",
        "acc=history.history['sparse_categorical_accuracy']\n",
        "val_acc=history.history['sparse_categorical_accuracy']\n",
        "loss=history.history['loss']\n",
        "val_loss=history.history['val_loss']\n",
        "\n",
        "epochs=range(1,len(acc)+1)"
      ],
      "metadata": {
        "id": "sNwG_yN_SOx_"
      },
      "execution_count": null,
      "outputs": []
    },
    {
      "cell_type": "code",
      "source": [
        "import matplotlib.pyplot as plt\n",
        "plt.plot(epochs,loss,'bo',label='Train loss')\n",
        "plt.plot(epochs,val_loss,'g',label='Validation loss')\n",
        "plt.title('Losses')\n",
        "plt.xlabel('Epochs')\n",
        "plt.ylabel('Loss')\n",
        "plt.legend();\n"
      ],
      "metadata": {
        "id": "w0EiAkCAeMsF"
      },
      "execution_count": null,
      "outputs": []
    },
    {
      "cell_type": "code",
      "source": [
        "plt.plot(epochs,acc,'bo',label='Train metric')\n",
        "plt.plot(epochs,val_acc,'g',label='Validation metric')\n",
        "plt.title('Metrics')\n",
        "plt.xlabel('Epochs')\n",
        "plt.ylabel('Metrics')\n",
        "plt.legend();"
      ],
      "metadata": {
        "id": "PmTxSV1xeU54"
      },
      "execution_count": null,
      "outputs": []
    }
  ]
}