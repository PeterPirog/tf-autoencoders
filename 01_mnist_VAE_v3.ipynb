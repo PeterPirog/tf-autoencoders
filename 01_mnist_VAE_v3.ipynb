{
  "nbformat": 4,
  "nbformat_minor": 0,
  "metadata": {
    "colab": {
      "name": "01-mnist-VAE_v3.ipynb",
      "provenance": [],
      "collapsed_sections": [],
      "authorship_tag": "ABX9TyOEMpiUbBstrB16Twl6sqQF",
      "include_colab_link": true
    },
    "kernelspec": {
      "name": "python3",
      "display_name": "Python 3"
    },
    "language_info": {
      "name": "python"
    },
    "accelerator": "GPU"
  },
  "cells": [
    {
      "cell_type": "markdown",
      "metadata": {
        "id": "view-in-github",
        "colab_type": "text"
      },
      "source": [
        "<a href=\"https://colab.research.google.com/github/PeterPirog/tf-autoencoders/blob/main/01_mnist_VAE_v3.ipynb\" target=\"_parent\"><img src=\"https://colab.research.google.com/assets/colab-badge.svg\" alt=\"Open In Colab\"/></a>"
      ]
    },
    {
      "cell_type": "markdown",
      "source": [
        "https://keras.io/examples/generative/vae/\n",
        "Latent vector length =3"
      ],
      "metadata": {
        "id": "BYzxx-LJDxRh"
      }
    },
    {
      "cell_type": "code",
      "execution_count": 1,
      "metadata": {
        "id": "0MDe9j_fDpu7"
      },
      "outputs": [],
      "source": [
        "# Setup\n",
        "import numpy as np\n",
        "import tensorflow as tf\n",
        "from tensorflow import keras\n",
        "from tensorflow.keras import layers\n",
        "\n",
        "epochs=50\n",
        "latent_dim = 2"
      ]
    },
    {
      "cell_type": "code",
      "source": [
        "# Create a sampling layer\n",
        "\n",
        "class Sampling(layers.Layer):\n",
        "    \"\"\"Uses (z_mean, z_log_var) to sample z, the vector encoding a digit.\"\"\"\n",
        "\n",
        "    def call(self, inputs):\n",
        "        z_mean, z_log_var = inputs\n",
        "        batch = tf.shape(z_mean)[0]\n",
        "        dim = tf.shape(z_mean)[1]\n",
        "        epsilon = tf.keras.backend.random_normal(shape=(batch, dim))\n",
        "        return z_mean + tf.exp(0.5 * z_log_var) * epsilon\n"
      ],
      "metadata": {
        "id": "azwMsEScD6fJ"
      },
      "execution_count": 2,
      "outputs": []
    },
    {
      "cell_type": "code",
      "source": [
        "# Build the encoder\n",
        "\n",
        "\n",
        "\n",
        "encoder_inputs = keras.Input(shape=(28, 28, 1))\n",
        "x = layers.Conv2D(32, 3, activation=\"relu\", strides=2, padding=\"same\")(encoder_inputs)\n",
        "x = layers.Conv2D(64, 3, activation=\"relu\", strides=2, padding=\"same\")(x)\n",
        "x = layers.Flatten()(x)\n",
        "x = layers.Dense(16, activation=\"relu\")(x)\n",
        "z_mean = layers.Dense(latent_dim, name=\"z_mean\")(x)\n",
        "z_log_var = layers.Dense(latent_dim, name=\"z_log_var\")(x)\n",
        "z = Sampling()([z_mean, z_log_var])\n",
        "encoder = keras.Model(encoder_inputs, [z_mean, z_log_var, z], name=\"encoder\")\n",
        "encoder.summary()\n"
      ],
      "metadata": {
        "colab": {
          "base_uri": "https://localhost:8080/"
        },
        "id": "jLxM8eNaD-6a",
        "outputId": "ddeaedf1-fad9-4dbb-e900-f8337dd101d3"
      },
      "execution_count": 3,
      "outputs": [
        {
          "output_type": "stream",
          "name": "stdout",
          "text": [
            "Model: \"encoder\"\n",
            "__________________________________________________________________________________________________\n",
            " Layer (type)                   Output Shape         Param #     Connected to                     \n",
            "==================================================================================================\n",
            " input_1 (InputLayer)           [(None, 28, 28, 1)]  0           []                               \n",
            "                                                                                                  \n",
            " conv2d (Conv2D)                (None, 14, 14, 32)   320         ['input_1[0][0]']                \n",
            "                                                                                                  \n",
            " conv2d_1 (Conv2D)              (None, 7, 7, 64)     18496       ['conv2d[0][0]']                 \n",
            "                                                                                                  \n",
            " flatten (Flatten)              (None, 3136)         0           ['conv2d_1[0][0]']               \n",
            "                                                                                                  \n",
            " dense (Dense)                  (None, 16)           50192       ['flatten[0][0]']                \n",
            "                                                                                                  \n",
            " z_mean (Dense)                 (None, 2)            34          ['dense[0][0]']                  \n",
            "                                                                                                  \n",
            " z_log_var (Dense)              (None, 2)            34          ['dense[0][0]']                  \n",
            "                                                                                                  \n",
            " sampling (Sampling)            (None, 2)            0           ['z_mean[0][0]',                 \n",
            "                                                                  'z_log_var[0][0]']              \n",
            "                                                                                                  \n",
            "==================================================================================================\n",
            "Total params: 69,076\n",
            "Trainable params: 69,076\n",
            "Non-trainable params: 0\n",
            "__________________________________________________________________________________________________\n"
          ]
        }
      ]
    },
    {
      "cell_type": "code",
      "source": [
        "# Build the decoder\n",
        "\n",
        "latent_inputs = keras.Input(shape=(latent_dim,))\n",
        "x = layers.Dense(7 * 7 * 64, activation=\"relu\")(latent_inputs)\n",
        "x = layers.Reshape((7, 7, 64))(x)\n",
        "x = layers.Conv2DTranspose(64, 3, activation=\"relu\", strides=2, padding=\"same\")(x)\n",
        "x = layers.Conv2DTranspose(32, 3, activation=\"relu\", strides=2, padding=\"same\")(x)\n",
        "decoder_outputs = layers.Conv2DTranspose(1, 3, activation=\"sigmoid\", padding=\"same\")(x)\n",
        "decoder = keras.Model(latent_inputs, decoder_outputs, name=\"decoder\")\n",
        "decoder.summary()\n",
        "\n"
      ],
      "metadata": {
        "colab": {
          "base_uri": "https://localhost:8080/"
        },
        "id": "7BKuO7GHEDpB",
        "outputId": "4a1442f7-9e79-4690-991e-cd09aac8e240"
      },
      "execution_count": 4,
      "outputs": [
        {
          "output_type": "stream",
          "name": "stdout",
          "text": [
            "Model: \"decoder\"\n",
            "_________________________________________________________________\n",
            " Layer (type)                Output Shape              Param #   \n",
            "=================================================================\n",
            " input_2 (InputLayer)        [(None, 2)]               0         \n",
            "                                                                 \n",
            " dense_1 (Dense)             (None, 3136)              9408      \n",
            "                                                                 \n",
            " reshape (Reshape)           (None, 7, 7, 64)          0         \n",
            "                                                                 \n",
            " conv2d_transpose (Conv2DTra  (None, 14, 14, 64)       36928     \n",
            " nspose)                                                         \n",
            "                                                                 \n",
            " conv2d_transpose_1 (Conv2DT  (None, 28, 28, 32)       18464     \n",
            " ranspose)                                                       \n",
            "                                                                 \n",
            " conv2d_transpose_2 (Conv2DT  (None, 28, 28, 1)        289       \n",
            " ranspose)                                                       \n",
            "                                                                 \n",
            "=================================================================\n",
            "Total params: 65,089\n",
            "Trainable params: 65,089\n",
            "Non-trainable params: 0\n",
            "_________________________________________________________________\n"
          ]
        }
      ]
    },
    {
      "cell_type": "code",
      "source": [
        "# Define the VAE as a Model with a custom train_step\n",
        "\n",
        "class VAE(keras.Model):\n",
        "    def __init__(self, encoder, decoder, **kwargs):\n",
        "        super(VAE, self).__init__(**kwargs)\n",
        "        self.encoder = encoder\n",
        "        self.decoder = decoder\n",
        "        self.total_loss_tracker = keras.metrics.Mean(name=\"total_loss\")\n",
        "        self.reconstruction_loss_tracker = keras.metrics.Mean(\n",
        "            name=\"reconstruction_loss\"\n",
        "        )\n",
        "        self.kl_loss_tracker = keras.metrics.Mean(name=\"kl_loss\")\n",
        "\n",
        "    @property\n",
        "    def metrics(self):\n",
        "        return [\n",
        "            self.total_loss_tracker,\n",
        "            self.reconstruction_loss_tracker,\n",
        "            self.kl_loss_tracker,\n",
        "        ]\n",
        "\n",
        "    def train_step(self, data):\n",
        "        with tf.GradientTape() as tape:\n",
        "            z_mean, z_log_var, z = self.encoder(data)\n",
        "            reconstruction = self.decoder(z)\n",
        "            reconstruction_loss = tf.reduce_mean(\n",
        "                tf.reduce_sum(\n",
        "                    keras.losses.binary_crossentropy(data, reconstruction), axis=(1, 2)\n",
        "                )\n",
        "            )\n",
        "            kl_loss = -0.5 * (1 + z_log_var - tf.square(z_mean) - tf.exp(z_log_var))\n",
        "            kl_loss = tf.reduce_mean(tf.reduce_sum(kl_loss, axis=1))\n",
        "            total_loss = reconstruction_loss + kl_loss\n",
        "        grads = tape.gradient(total_loss, self.trainable_weights)\n",
        "        self.optimizer.apply_gradients(zip(grads, self.trainable_weights))\n",
        "        self.total_loss_tracker.update_state(total_loss)\n",
        "        self.reconstruction_loss_tracker.update_state(reconstruction_loss)\n",
        "        self.kl_loss_tracker.update_state(kl_loss)\n",
        "        return {\n",
        "            \"loss\": self.total_loss_tracker.result(),\n",
        "            \"reconstruction_loss\": self.reconstruction_loss_tracker.result(),\n",
        "            \"kl_loss\": self.kl_loss_tracker.result(),\n",
        "        }\n",
        "\n"
      ],
      "metadata": {
        "id": "JL5qVupYEIEi"
      },
      "execution_count": 5,
      "outputs": []
    },
    {
      "cell_type": "code",
      "source": [
        "callbacks=[tf.keras.callbacks.ReduceLROnPlateau(monitor='val_loss', \n",
        "                                                factor=0.5,\n",
        "                                                patience=3,\n",
        "                                                min_lr=1e-5),\n",
        "           tf.keras.callbacks.EarlyStopping(monitor='vval_loss',\n",
        "                                            patience=5),\n",
        "           tf.keras.callbacks.ModelCheckpoint(filepath='my_model.h5',\n",
        "                                              monitor='val_loss',\n",
        "                                              save_best_only=True)]"
      ],
      "metadata": {
        "id": "Hh6ebn3aHXL5"
      },
      "execution_count": 6,
      "outputs": []
    },
    {
      "cell_type": "code",
      "source": [
        "# Train the VAE\n",
        "\n",
        "(x_train, _), (x_test, _) = keras.datasets.mnist.load_data()\n",
        "mnist_digits = np.concatenate([x_train, x_test], axis=0)\n",
        "mnist_digits = np.expand_dims(mnist_digits, -1).astype(\"float32\") / 255\n",
        "\n",
        "vae = VAE(encoder, decoder)\n",
        "vae.compile(optimizer=keras.optimizers.Adam())\n",
        "vae.fit(mnist_digits, epochs=epochs, batch_size=128)\n",
        "\n"
      ],
      "metadata": {
        "colab": {
          "base_uri": "https://localhost:8080/"
        },
        "id": "DCe0H3MSEPsa",
        "outputId": "204efbac-f8b3-452f-a07b-dd18a50e5ef1"
      },
      "execution_count": null,
      "outputs": [
        {
          "output_type": "stream",
          "name": "stdout",
          "text": [
            "Epoch 1/50\n",
            "547/547 [==============================] - 22s 31ms/step - loss: 251.6771 - reconstruction_loss: 202.6759 - kl_loss: 4.1954\n",
            "Epoch 2/50\n",
            "547/547 [==============================] - 11s 20ms/step - loss: 173.8584 - reconstruction_loss: 164.9052 - kl_loss: 5.6859\n",
            "Epoch 3/50\n",
            "547/547 [==============================] - 10s 19ms/step - loss: 164.1541 - reconstruction_loss: 156.4130 - kl_loss: 6.0381\n",
            "Epoch 4/50\n",
            "547/547 [==============================] - 10s 19ms/step - loss: 159.8223 - reconstruction_loss: 152.7056 - kl_loss: 6.2007\n",
            "Epoch 5/50\n",
            "547/547 [==============================] - 10s 19ms/step - loss: 157.5971 - reconstruction_loss: 150.7089 - kl_loss: 6.2962\n",
            "Epoch 6/50\n",
            "547/547 [==============================] - 10s 19ms/step - loss: 155.5703 - reconstruction_loss: 149.1788 - kl_loss: 6.3294\n",
            "Epoch 7/50\n",
            "547/547 [==============================] - 10s 19ms/step - loss: 154.6055 - reconstruction_loss: 148.0601 - kl_loss: 6.3687\n",
            "Epoch 8/50\n",
            "547/547 [==============================] - 11s 19ms/step - loss: 153.7309 - reconstruction_loss: 147.2442 - kl_loss: 6.4125\n",
            "Epoch 9/50\n",
            "547/547 [==============================] - 10s 19ms/step - loss: 152.7045 - reconstruction_loss: 146.4961 - kl_loss: 6.4443\n",
            "Epoch 10/50\n",
            "547/547 [==============================] - 11s 20ms/step - loss: 152.8750 - reconstruction_loss: 145.9843 - kl_loss: 6.4754\n",
            "Epoch 11/50\n",
            "547/547 [==============================] - 11s 19ms/step - loss: 151.9730 - reconstruction_loss: 145.2800 - kl_loss: 6.5075\n",
            "Epoch 12/50\n",
            "547/547 [==============================] - 10s 19ms/step - loss: 151.1654 - reconstruction_loss: 144.8759 - kl_loss: 6.5173\n",
            "Epoch 13/50\n",
            "529/547 [============================>.] - ETA: 0s - loss: 151.0402 - reconstruction_loss: 144.4917 - kl_loss: 6.5348"
          ]
        }
      ]
    },
    {
      "cell_type": "markdown",
      "source": [
        "L=2\n",
        "Epoch 50/50\n",
        "547/547 [==============================] - 13s 24ms/step - loss: 146.2070 - reconstruction_loss: 139.6618 - kl_loss: 6.5275"
      ],
      "metadata": {
        "id": "4QclPnh14Ka5"
      }
    },
    {
      "cell_type": "code",
      "source": [
        "(x_train, y_train), (x_test, y_test) = keras.datasets.mnist.load_data()\n",
        "\n",
        "#Train data\n",
        "x_train = np.expand_dims(x_train, -1).astype(\"float32\") / 255\n",
        "z_mean_train, _, _ = vae.encoder.predict(x_train)\n",
        "\n",
        "#Test data\n",
        "x_test = np.expand_dims(x_test, -1).astype(\"float32\") / 255\n",
        "z_mean_test, _, _ = vae.encoder.predict(x_test)\n",
        "\n",
        "z_mean_train.shape\n",
        "\n"
      ],
      "metadata": {
        "id": "c0UhR8QlJ-UK"
      },
      "execution_count": null,
      "outputs": []
    },
    {
      "cell_type": "code",
      "source": [
        "model=keras.models.Sequential()\n",
        "model.add(keras.Input(shape=z_mean_train.shape[1:]))\n",
        "model.add(keras.layers.Dense(30,activation='relu'))\n",
        "model.add(keras.layers.Dense(10,activation='softmax'))"
      ],
      "metadata": {
        "id": "rZ2d5knMK93J"
      },
      "execution_count": null,
      "outputs": []
    },
    {
      "cell_type": "code",
      "source": [
        "model.compile(loss=keras.losses.SparseCategoricalCrossentropy(),\n",
        "              optimizer=keras.optimizers.Adam(),\n",
        "              metrics=[keras.metrics.SparseCategoricalAccuracy()]) # "
      ],
      "metadata": {
        "id": "GgSDLEghN5B_"
      },
      "execution_count": null,
      "outputs": []
    },
    {
      "cell_type": "code",
      "source": [
        "model.fit(x=z_mean_train,y=y_train,\n",
        "          epochs=30,\n",
        "          batch_size=32,\n",
        "          validation_data=(z_mean_test,y_test)) #"
      ],
      "metadata": {
        "id": "0KB0PqkKOLF8"
      },
      "execution_count": null,
      "outputs": []
    },
    {
      "cell_type": "code",
      "source": [
        "model.summary()"
      ],
      "metadata": {
        "id": "sNwG_yN_SOx_"
      },
      "execution_count": null,
      "outputs": []
    },
    {
      "cell_type": "code",
      "source": [
        "model.predict(z_mean)"
      ],
      "metadata": {
        "id": "c3mV1ggyNKVZ"
      },
      "execution_count": null,
      "outputs": []
    },
    {
      "cell_type": "code",
      "source": [
        "model.summary()"
      ],
      "metadata": {
        "id": "RYr4DkI3Nk-d"
      },
      "execution_count": null,
      "outputs": []
    }
  ]
}