{
  "nbformat": 4,
  "nbformat_minor": 0,
  "metadata": {
    "colab": {
      "name": "01-mnist-VAE_v3.ipynb",
      "provenance": [],
      "collapsed_sections": [],
      "authorship_tag": "ABX9TyOEMpiUbBstrB16Twl6sqQF",
      "include_colab_link": true
    },
    "kernelspec": {
      "name": "python3",
      "display_name": "Python 3"
    },
    "language_info": {
      "name": "python"
    },
    "accelerator": "GPU"
  },
  "cells": [
    {
      "cell_type": "markdown",
      "metadata": {
        "id": "view-in-github",
        "colab_type": "text"
      },
      "source": [
        "<a href=\"https://colab.research.google.com/github/PeterPirog/tf-autoencoders/blob/main/01_mnist_VAE_v3.ipynb\" target=\"_parent\"><img src=\"https://colab.research.google.com/assets/colab-badge.svg\" alt=\"Open In Colab\"/></a>"
      ]
    },
    {
      "cell_type": "markdown",
      "source": [
        "https://keras.io/examples/generative/vae/\n",
        "Latent vector length =3"
      ],
      "metadata": {
        "id": "BYzxx-LJDxRh"
      }
    },
    {
      "cell_type": "code",
      "execution_count": 1,
      "metadata": {
        "id": "0MDe9j_fDpu7"
      },
      "outputs": [],
      "source": [
        "# Setup\n",
        "import numpy as np\n",
        "import tensorflow as tf\n",
        "from tensorflow import keras\n",
        "from tensorflow.keras import layers\n",
        "\n",
        "epochs=50\n",
        "latent_dim = 2"
      ]
    },
    {
      "cell_type": "code",
      "source": [
        "# Create a sampling layer\n",
        "\n",
        "class Sampling(layers.Layer):\n",
        "    \"\"\"Uses (z_mean, z_log_var) to sample z, the vector encoding a digit.\"\"\"\n",
        "\n",
        "    def call(self, inputs):\n",
        "        z_mean, z_log_var = inputs\n",
        "        batch = tf.shape(z_mean)[0]\n",
        "        dim = tf.shape(z_mean)[1]\n",
        "        epsilon = tf.keras.backend.random_normal(shape=(batch, dim))\n",
        "        return z_mean + tf.exp(0.5 * z_log_var) * epsilon\n"
      ],
      "metadata": {
        "id": "azwMsEScD6fJ"
      },
      "execution_count": 2,
      "outputs": []
    },
    {
      "cell_type": "code",
      "source": [
        "# Build the encoder\n",
        "\n",
        "\n",
        "\n",
        "encoder_inputs = keras.Input(shape=(28, 28, 1))\n",
        "x = layers.Conv2D(32, 3, activation=\"relu\", strides=2, padding=\"same\")(encoder_inputs)\n",
        "x = layers.Conv2D(64, 3, activation=\"relu\", strides=2, padding=\"same\")(x)\n",
        "x = layers.Flatten()(x)\n",
        "x = layers.Dense(16, activation=\"relu\")(x)\n",
        "z_mean = layers.Dense(latent_dim, name=\"z_mean\")(x)\n",
        "z_log_var = layers.Dense(latent_dim, name=\"z_log_var\")(x)\n",
        "z = Sampling()([z_mean, z_log_var])\n",
        "encoder = keras.Model(encoder_inputs, [z_mean, z_log_var, z], name=\"encoder\")\n",
        "encoder.summary()\n"
      ],
      "metadata": {
        "colab": {
          "base_uri": "https://localhost:8080/"
        },
        "id": "jLxM8eNaD-6a",
        "outputId": "ddeaedf1-fad9-4dbb-e900-f8337dd101d3"
      },
      "execution_count": 3,
      "outputs": [
        {
          "output_type": "stream",
          "name": "stdout",
          "text": [
            "Model: \"encoder\"\n",
            "__________________________________________________________________________________________________\n",
            " Layer (type)                   Output Shape         Param #     Connected to                     \n",
            "==================================================================================================\n",
            " input_1 (InputLayer)           [(None, 28, 28, 1)]  0           []                               \n",
            "                                                                                                  \n",
            " conv2d (Conv2D)                (None, 14, 14, 32)   320         ['input_1[0][0]']                \n",
            "                                                                                                  \n",
            " conv2d_1 (Conv2D)              (None, 7, 7, 64)     18496       ['conv2d[0][0]']                 \n",
            "                                                                                                  \n",
            " flatten (Flatten)              (None, 3136)         0           ['conv2d_1[0][0]']               \n",
            "                                                                                                  \n",
            " dense (Dense)                  (None, 16)           50192       ['flatten[0][0]']                \n",
            "                                                                                                  \n",
            " z_mean (Dense)                 (None, 2)            34          ['dense[0][0]']                  \n",
            "                                                                                                  \n",
            " z_log_var (Dense)              (None, 2)            34          ['dense[0][0]']                  \n",
            "                                                                                                  \n",
            " sampling (Sampling)            (None, 2)            0           ['z_mean[0][0]',                 \n",
            "                                                                  'z_log_var[0][0]']              \n",
            "                                                                                                  \n",
            "==================================================================================================\n",
            "Total params: 69,076\n",
            "Trainable params: 69,076\n",
            "Non-trainable params: 0\n",
            "__________________________________________________________________________________________________\n"
          ]
        }
      ]
    },
    {
      "cell_type": "code",
      "source": [
        "# Build the decoder\n",
        "\n",
        "latent_inputs = keras.Input(shape=(latent_dim,))\n",
        "x = layers.Dense(7 * 7 * 64, activation=\"relu\")(latent_inputs)\n",
        "x = layers.Reshape((7, 7, 64))(x)\n",
        "x = layers.Conv2DTranspose(64, 3, activation=\"relu\", strides=2, padding=\"same\")(x)\n",
        "x = layers.Conv2DTranspose(32, 3, activation=\"relu\", strides=2, padding=\"same\")(x)\n",
        "decoder_outputs = layers.Conv2DTranspose(1, 3, activation=\"sigmoid\", padding=\"same\")(x)\n",
        "decoder = keras.Model(latent_inputs, decoder_outputs, name=\"decoder\")\n",
        "decoder.summary()\n",
        "\n"
      ],
      "metadata": {
        "colab": {
          "base_uri": "https://localhost:8080/"
        },
        "id": "7BKuO7GHEDpB",
        "outputId": "4a1442f7-9e79-4690-991e-cd09aac8e240"
      },
      "execution_count": 4,
      "outputs": [
        {
          "output_type": "stream",
          "name": "stdout",
          "text": [
            "Model: \"decoder\"\n",
            "_________________________________________________________________\n",
            " Layer (type)                Output Shape              Param #   \n",
            "=================================================================\n",
            " input_2 (InputLayer)        [(None, 2)]               0         \n",
            "                                                                 \n",
            " dense_1 (Dense)             (None, 3136)              9408      \n",
            "                                                                 \n",
            " reshape (Reshape)           (None, 7, 7, 64)          0         \n",
            "                                                                 \n",
            " conv2d_transpose (Conv2DTra  (None, 14, 14, 64)       36928     \n",
            " nspose)                                                         \n",
            "                                                                 \n",
            " conv2d_transpose_1 (Conv2DT  (None, 28, 28, 32)       18464     \n",
            " ranspose)                                                       \n",
            "                                                                 \n",
            " conv2d_transpose_2 (Conv2DT  (None, 28, 28, 1)        289       \n",
            " ranspose)                                                       \n",
            "                                                                 \n",
            "=================================================================\n",
            "Total params: 65,089\n",
            "Trainable params: 65,089\n",
            "Non-trainable params: 0\n",
            "_________________________________________________________________\n"
          ]
        }
      ]
    },
    {
      "cell_type": "code",
      "source": [
        "# Define the VAE as a Model with a custom train_step\n",
        "\n",
        "class VAE(keras.Model):\n",
        "    def __init__(self, encoder, decoder, **kwargs):\n",
        "        super(VAE, self).__init__(**kwargs)\n",
        "        self.encoder = encoder\n",
        "        self.decoder = decoder\n",
        "        self.total_loss_tracker = keras.metrics.Mean(name=\"total_loss\")\n",
        "        self.reconstruction_loss_tracker = keras.metrics.Mean(\n",
        "            name=\"reconstruction_loss\"\n",
        "        )\n",
        "        self.kl_loss_tracker = keras.metrics.Mean(name=\"kl_loss\")\n",
        "\n",
        "    @property\n",
        "    def metrics(self):\n",
        "        return [\n",
        "            self.total_loss_tracker,\n",
        "            self.reconstruction_loss_tracker,\n",
        "            self.kl_loss_tracker,\n",
        "        ]\n",
        "\n",
        "    def train_step(self, data):\n",
        "        with tf.GradientTape() as tape:\n",
        "            z_mean, z_log_var, z = self.encoder(data)\n",
        "            reconstruction = self.decoder(z)\n",
        "            reconstruction_loss = tf.reduce_mean(\n",
        "                tf.reduce_sum(\n",
        "                    keras.losses.binary_crossentropy(data, reconstruction), axis=(1, 2)\n",
        "                )\n",
        "            )\n",
        "            kl_loss = -0.5 * (1 + z_log_var - tf.square(z_mean) - tf.exp(z_log_var))\n",
        "            kl_loss = tf.reduce_mean(tf.reduce_sum(kl_loss, axis=1))\n",
        "            total_loss = reconstruction_loss + kl_loss\n",
        "        grads = tape.gradient(total_loss, self.trainable_weights)\n",
        "        self.optimizer.apply_gradients(zip(grads, self.trainable_weights))\n",
        "        self.total_loss_tracker.update_state(total_loss)\n",
        "        self.reconstruction_loss_tracker.update_state(reconstruction_loss)\n",
        "        self.kl_loss_tracker.update_state(kl_loss)\n",
        "        return {\n",
        "            \"loss\": self.total_loss_tracker.result(),\n",
        "            \"reconstruction_loss\": self.reconstruction_loss_tracker.result(),\n",
        "            \"kl_loss\": self.kl_loss_tracker.result(),\n",
        "        }\n",
        "\n"
      ],
      "metadata": {
        "id": "JL5qVupYEIEi"
      },
      "execution_count": 5,
      "outputs": []
    },
    {
      "cell_type": "code",
      "source": [
        "callbacks=[tf.keras.callbacks.ReduceLROnPlateau(monitor='val_loss', \n",
        "                                                factor=0.5,\n",
        "                                                patience=3,\n",
        "                                                min_lr=1e-5),\n",
        "           tf.keras.callbacks.EarlyStopping(monitor='vval_loss',\n",
        "                                            patience=5),\n",
        "           tf.keras.callbacks.ModelCheckpoint(filepath='my_model.h5',\n",
        "                                              monitor='val_loss',\n",
        "                                              save_best_only=True)]"
      ],
      "metadata": {
        "id": "Hh6ebn3aHXL5"
      },
      "execution_count": 6,
      "outputs": []
    },
    {
      "cell_type": "code",
      "source": [
        "# Train the VAE\n",
        "\n",
        "(x_train, _), (x_test, _) = keras.datasets.mnist.load_data()\n",
        "mnist_digits = np.concatenate([x_train, x_test], axis=0)\n",
        "mnist_digits = np.expand_dims(mnist_digits, -1).astype(\"float32\") / 255\n",
        "\n",
        "vae = VAE(encoder, decoder)\n",
        "vae.compile(optimizer=keras.optimizers.Adam())\n",
        "vae.fit(mnist_digits, epochs=epochs, batch_size=128)\n",
        "\n"
      ],
      "metadata": {
        "colab": {
          "base_uri": "https://localhost:8080/"
        },
        "id": "DCe0H3MSEPsa",
        "outputId": "204efbac-f8b3-452f-a07b-dd18a50e5ef1"
      },
      "execution_count": 7,
      "outputs": [
        {
          "output_type": "stream",
          "name": "stdout",
          "text": [
            "Epoch 1/50\n",
            "547/547 [==============================] - 22s 31ms/step - loss: 251.6771 - reconstruction_loss: 202.6759 - kl_loss: 4.1954\n",
            "Epoch 2/50\n",
            "547/547 [==============================] - 11s 20ms/step - loss: 173.8584 - reconstruction_loss: 164.9052 - kl_loss: 5.6859\n",
            "Epoch 3/50\n",
            "547/547 [==============================] - 10s 19ms/step - loss: 164.1541 - reconstruction_loss: 156.4130 - kl_loss: 6.0381\n",
            "Epoch 4/50\n",
            "547/547 [==============================] - 10s 19ms/step - loss: 159.8223 - reconstruction_loss: 152.7056 - kl_loss: 6.2007\n",
            "Epoch 5/50\n",
            "547/547 [==============================] - 10s 19ms/step - loss: 157.5971 - reconstruction_loss: 150.7089 - kl_loss: 6.2962\n",
            "Epoch 6/50\n",
            "547/547 [==============================] - 10s 19ms/step - loss: 155.5703 - reconstruction_loss: 149.1788 - kl_loss: 6.3294\n",
            "Epoch 7/50\n",
            "547/547 [==============================] - 10s 19ms/step - loss: 154.6055 - reconstruction_loss: 148.0601 - kl_loss: 6.3687\n",
            "Epoch 8/50\n",
            "547/547 [==============================] - 11s 19ms/step - loss: 153.7309 - reconstruction_loss: 147.2442 - kl_loss: 6.4125\n",
            "Epoch 9/50\n",
            "547/547 [==============================] - 10s 19ms/step - loss: 152.7045 - reconstruction_loss: 146.4961 - kl_loss: 6.4443\n",
            "Epoch 10/50\n",
            "547/547 [==============================] - 11s 20ms/step - loss: 152.8750 - reconstruction_loss: 145.9843 - kl_loss: 6.4754\n",
            "Epoch 11/50\n",
            "547/547 [==============================] - 11s 19ms/step - loss: 151.9730 - reconstruction_loss: 145.2800 - kl_loss: 6.5075\n",
            "Epoch 12/50\n",
            "547/547 [==============================] - 10s 19ms/step - loss: 151.1654 - reconstruction_loss: 144.8759 - kl_loss: 6.5173\n",
            "Epoch 13/50\n",
            "547/547 [==============================] - 10s 19ms/step - loss: 151.0394 - reconstruction_loss: 144.4694 - kl_loss: 6.5358\n",
            "Epoch 14/50\n",
            "547/547 [==============================] - 10s 19ms/step - loss: 151.0413 - reconstruction_loss: 144.0705 - kl_loss: 6.5552\n",
            "Epoch 15/50\n",
            "547/547 [==============================] - 10s 19ms/step - loss: 150.3811 - reconstruction_loss: 143.8272 - kl_loss: 6.5628\n",
            "Epoch 16/50\n",
            "547/547 [==============================] - 10s 19ms/step - loss: 150.0999 - reconstruction_loss: 143.3285 - kl_loss: 6.5876\n",
            "Epoch 17/50\n",
            "547/547 [==============================] - 10s 19ms/step - loss: 149.5752 - reconstruction_loss: 143.1068 - kl_loss: 6.6104\n",
            "Epoch 18/50\n",
            "547/547 [==============================] - 10s 19ms/step - loss: 149.4028 - reconstruction_loss: 142.8775 - kl_loss: 6.6226\n",
            "Epoch 19/50\n",
            "547/547 [==============================] - 10s 19ms/step - loss: 149.0259 - reconstruction_loss: 142.5488 - kl_loss: 6.6298\n",
            "Epoch 20/50\n",
            "547/547 [==============================] - 11s 20ms/step - loss: 149.2865 - reconstruction_loss: 142.3284 - kl_loss: 6.6192\n",
            "Epoch 21/50\n",
            "547/547 [==============================] - 10s 19ms/step - loss: 148.7635 - reconstruction_loss: 142.1246 - kl_loss: 6.6107\n",
            "Epoch 22/50\n",
            "547/547 [==============================] - 10s 19ms/step - loss: 148.3508 - reconstruction_loss: 141.8709 - kl_loss: 6.6372\n",
            "Epoch 23/50\n",
            "547/547 [==============================] - 10s 19ms/step - loss: 148.2952 - reconstruction_loss: 141.6626 - kl_loss: 6.6542\n",
            "Epoch 24/50\n",
            "547/547 [==============================] - 10s 19ms/step - loss: 148.3908 - reconstruction_loss: 141.4620 - kl_loss: 6.6514\n",
            "Epoch 25/50\n",
            "547/547 [==============================] - 10s 19ms/step - loss: 147.9924 - reconstruction_loss: 141.4072 - kl_loss: 6.6679\n",
            "Epoch 26/50\n",
            "547/547 [==============================] - 10s 19ms/step - loss: 147.7217 - reconstruction_loss: 141.1557 - kl_loss: 6.6741\n",
            "Epoch 27/50\n",
            "547/547 [==============================] - 10s 19ms/step - loss: 147.5157 - reconstruction_loss: 141.0102 - kl_loss: 6.7012\n",
            "Epoch 28/50\n",
            "547/547 [==============================] - 10s 19ms/step - loss: 147.4583 - reconstruction_loss: 140.8524 - kl_loss: 6.6852\n",
            "Epoch 29/50\n",
            "547/547 [==============================] - 11s 19ms/step - loss: 147.1663 - reconstruction_loss: 140.7243 - kl_loss: 6.6953\n",
            "Epoch 30/50\n",
            "547/547 [==============================] - 10s 19ms/step - loss: 147.2336 - reconstruction_loss: 140.5961 - kl_loss: 6.6956\n",
            "Epoch 31/50\n",
            "547/547 [==============================] - 10s 19ms/step - loss: 146.8193 - reconstruction_loss: 140.4291 - kl_loss: 6.7004\n",
            "Epoch 32/50\n",
            "547/547 [==============================] - 10s 19ms/step - loss: 146.9758 - reconstruction_loss: 140.2700 - kl_loss: 6.7128\n",
            "Epoch 33/50\n",
            "547/547 [==============================] - 10s 19ms/step - loss: 147.0509 - reconstruction_loss: 140.2258 - kl_loss: 6.7276\n",
            "Epoch 34/50\n",
            "547/547 [==============================] - 10s 19ms/step - loss: 146.9116 - reconstruction_loss: 140.1099 - kl_loss: 6.7262\n",
            "Epoch 35/50\n",
            "547/547 [==============================] - 10s 19ms/step - loss: 146.8507 - reconstruction_loss: 139.9677 - kl_loss: 6.7263\n",
            "Epoch 36/50\n",
            "547/547 [==============================] - 11s 19ms/step - loss: 146.4897 - reconstruction_loss: 139.7994 - kl_loss: 6.7365\n",
            "Epoch 37/50\n",
            "547/547 [==============================] - 10s 19ms/step - loss: 146.1372 - reconstruction_loss: 139.6683 - kl_loss: 6.7506\n",
            "Epoch 38/50\n",
            "547/547 [==============================] - 10s 19ms/step - loss: 146.0980 - reconstruction_loss: 139.6205 - kl_loss: 6.7608\n",
            "Epoch 39/50\n",
            "547/547 [==============================] - 10s 19ms/step - loss: 146.0329 - reconstruction_loss: 139.5001 - kl_loss: 6.7294\n",
            "Epoch 40/50\n",
            "547/547 [==============================] - 11s 19ms/step - loss: 146.1459 - reconstruction_loss: 139.4004 - kl_loss: 6.7655\n",
            "Epoch 41/50\n",
            "547/547 [==============================] - 11s 19ms/step - loss: 146.0795 - reconstruction_loss: 139.3082 - kl_loss: 6.7625\n",
            "Epoch 42/50\n",
            "547/547 [==============================] - 10s 19ms/step - loss: 145.9987 - reconstruction_loss: 139.2189 - kl_loss: 6.7637\n",
            "Epoch 43/50\n",
            "547/547 [==============================] - 10s 19ms/step - loss: 145.8211 - reconstruction_loss: 139.0952 - kl_loss: 6.7803\n",
            "Epoch 44/50\n",
            "547/547 [==============================] - 10s 19ms/step - loss: 145.7206 - reconstruction_loss: 139.0749 - kl_loss: 6.7906\n",
            "Epoch 45/50\n",
            "547/547 [==============================] - 10s 19ms/step - loss: 145.8934 - reconstruction_loss: 138.9406 - kl_loss: 6.7752\n",
            "Epoch 46/50\n",
            "547/547 [==============================] - 10s 19ms/step - loss: 145.4271 - reconstruction_loss: 138.7851 - kl_loss: 6.7990\n",
            "Epoch 47/50\n",
            "547/547 [==============================] - 10s 19ms/step - loss: 145.4416 - reconstruction_loss: 138.8924 - kl_loss: 6.7839\n",
            "Epoch 48/50\n",
            "547/547 [==============================] - 10s 19ms/step - loss: 145.2815 - reconstruction_loss: 138.6634 - kl_loss: 6.7987\n",
            "Epoch 49/50\n",
            "547/547 [==============================] - 10s 19ms/step - loss: 145.0651 - reconstruction_loss: 138.6011 - kl_loss: 6.8077\n",
            "Epoch 50/50\n",
            "547/547 [==============================] - 10s 19ms/step - loss: 145.0708 - reconstruction_loss: 138.5341 - kl_loss: 6.8038\n"
          ]
        },
        {
          "output_type": "execute_result",
          "data": {
            "text/plain": [
              "<keras.callbacks.History at 0x7faad07300d0>"
            ]
          },
          "metadata": {},
          "execution_count": 7
        }
      ]
    },
    {
      "cell_type": "markdown",
      "source": [
        "L=2\n",
        "Epoch 50/50\n",
        "547/547 [==============================] - 13s 24ms/step - loss: 146.2070 - reconstruction_loss: 139.6618 - kl_loss: 6.5275"
      ],
      "metadata": {
        "id": "4QclPnh14Ka5"
      }
    },
    {
      "cell_type": "code",
      "source": [
        "(x_train, y_train), (x_test, y_test) = keras.datasets.mnist.load_data()\n",
        "\n",
        "#Train data\n",
        "x_train = np.expand_dims(x_train, -1).astype(\"float32\") / 255\n",
        "z_mean_train, _, _ = vae.encoder.predict(x_train)\n",
        "\n",
        "#Test data\n",
        "x_test = np.expand_dims(x_test, -1).astype(\"float32\") / 255\n",
        "z_mean_test, _, _ = vae.encoder.predict(x_test)\n",
        "\n",
        "z_mean_train.shape\n",
        "\n"
      ],
      "metadata": {
        "colab": {
          "base_uri": "https://localhost:8080/"
        },
        "id": "c0UhR8QlJ-UK",
        "outputId": "a55da550-bd09-4c60-9910-bf29ec9f5d26"
      },
      "execution_count": 8,
      "outputs": [
        {
          "output_type": "execute_result",
          "data": {
            "text/plain": [
              "(60000, 2)"
            ]
          },
          "metadata": {},
          "execution_count": 8
        }
      ]
    },
    {
      "cell_type": "code",
      "source": [
        "model=keras.models.Sequential()\n",
        "model.add(keras.Input(shape=z_mean_train.shape[1:]))\n",
        "model.add(keras.layers.Dense(30,activation='relu'))\n",
        "model.add(keras.layers.Dense(10,activation='softmax'))"
      ],
      "metadata": {
        "id": "rZ2d5knMK93J"
      },
      "execution_count": 9,
      "outputs": []
    },
    {
      "cell_type": "code",
      "source": [
        "model.compile(loss=keras.losses.SparseCategoricalCrossentropy(),\n",
        "              optimizer=keras.optimizers.Adam(),\n",
        "              metrics=[keras.metrics.SparseCategoricalAccuracy()]) # "
      ],
      "metadata": {
        "id": "GgSDLEghN5B_"
      },
      "execution_count": 10,
      "outputs": []
    },
    {
      "cell_type": "code",
      "source": [
        "model.fit(x=z_mean_train,y=y_train,\n",
        "          epochs=30,\n",
        "          batch_size=32,\n",
        "          validation_data=(z_mean_test,y_test)) #"
      ],
      "metadata": {
        "colab": {
          "base_uri": "https://localhost:8080/"
        },
        "id": "0KB0PqkKOLF8",
        "outputId": "4cf31f2b-798b-436b-c67d-1f85ed690902"
      },
      "execution_count": 11,
      "outputs": [
        {
          "output_type": "stream",
          "name": "stdout",
          "text": [
            "Epoch 1/30\n",
            "1875/1875 [==============================] - 7s 3ms/step - loss: 1.2856 - sparse_categorical_accuracy: 0.5633 - val_loss: 0.9475 - val_sparse_categorical_accuracy: 0.6955\n",
            "Epoch 2/30\n",
            "1875/1875 [==============================] - 7s 4ms/step - loss: 0.9230 - sparse_categorical_accuracy: 0.7068 - val_loss: 0.8503 - val_sparse_categorical_accuracy: 0.7285\n",
            "Epoch 3/30\n",
            "1875/1875 [==============================] - 7s 4ms/step - loss: 0.8610 - sparse_categorical_accuracy: 0.7282 - val_loss: 0.8081 - val_sparse_categorical_accuracy: 0.7475\n",
            "Epoch 4/30\n",
            "1875/1875 [==============================] - 7s 4ms/step - loss: 0.8262 - sparse_categorical_accuracy: 0.7366 - val_loss: 0.7842 - val_sparse_categorical_accuracy: 0.7492\n",
            "Epoch 5/30\n",
            "1875/1875 [==============================] - 7s 4ms/step - loss: 0.8032 - sparse_categorical_accuracy: 0.7395 - val_loss: 0.7687 - val_sparse_categorical_accuracy: 0.7438\n",
            "Epoch 6/30\n",
            "1875/1875 [==============================] - 7s 4ms/step - loss: 0.7864 - sparse_categorical_accuracy: 0.7408 - val_loss: 0.7516 - val_sparse_categorical_accuracy: 0.7539\n",
            "Epoch 7/30\n",
            "1875/1875 [==============================] - 7s 4ms/step - loss: 0.7737 - sparse_categorical_accuracy: 0.7416 - val_loss: 0.7420 - val_sparse_categorical_accuracy: 0.7568\n",
            "Epoch 8/30\n",
            "1875/1875 [==============================] - 7s 4ms/step - loss: 0.7634 - sparse_categorical_accuracy: 0.7428 - val_loss: 0.7309 - val_sparse_categorical_accuracy: 0.7565\n",
            "Epoch 9/30\n",
            "1875/1875 [==============================] - 6s 3ms/step - loss: 0.7547 - sparse_categorical_accuracy: 0.7437 - val_loss: 0.7264 - val_sparse_categorical_accuracy: 0.7547\n",
            "Epoch 10/30\n",
            "1875/1875 [==============================] - 7s 4ms/step - loss: 0.7475 - sparse_categorical_accuracy: 0.7438 - val_loss: 0.7202 - val_sparse_categorical_accuracy: 0.7578\n",
            "Epoch 11/30\n",
            "1875/1875 [==============================] - 6s 3ms/step - loss: 0.7420 - sparse_categorical_accuracy: 0.7447 - val_loss: 0.7164 - val_sparse_categorical_accuracy: 0.7549\n",
            "Epoch 12/30\n",
            "1875/1875 [==============================] - 7s 4ms/step - loss: 0.7377 - sparse_categorical_accuracy: 0.7445 - val_loss: 0.7118 - val_sparse_categorical_accuracy: 0.7555\n",
            "Epoch 13/30\n",
            "1875/1875 [==============================] - 6s 3ms/step - loss: 0.7340 - sparse_categorical_accuracy: 0.7456 - val_loss: 0.7098 - val_sparse_categorical_accuracy: 0.7585\n",
            "Epoch 14/30\n",
            "1875/1875 [==============================] - 6s 3ms/step - loss: 0.7312 - sparse_categorical_accuracy: 0.7466 - val_loss: 0.7092 - val_sparse_categorical_accuracy: 0.7599\n",
            "Epoch 15/30\n",
            "1875/1875 [==============================] - 7s 4ms/step - loss: 0.7287 - sparse_categorical_accuracy: 0.7464 - val_loss: 0.7077 - val_sparse_categorical_accuracy: 0.7592\n",
            "Epoch 16/30\n",
            "1875/1875 [==============================] - 6s 3ms/step - loss: 0.7270 - sparse_categorical_accuracy: 0.7464 - val_loss: 0.7092 - val_sparse_categorical_accuracy: 0.7593\n",
            "Epoch 17/30\n",
            "1875/1875 [==============================] - 6s 3ms/step - loss: 0.7251 - sparse_categorical_accuracy: 0.7466 - val_loss: 0.7059 - val_sparse_categorical_accuracy: 0.7581\n",
            "Epoch 18/30\n",
            "1875/1875 [==============================] - 6s 3ms/step - loss: 0.7234 - sparse_categorical_accuracy: 0.7474 - val_loss: 0.7029 - val_sparse_categorical_accuracy: 0.7601\n",
            "Epoch 19/30\n",
            "1875/1875 [==============================] - 6s 3ms/step - loss: 0.7222 - sparse_categorical_accuracy: 0.7472 - val_loss: 0.7064 - val_sparse_categorical_accuracy: 0.7620\n",
            "Epoch 20/30\n",
            "1875/1875 [==============================] - 7s 4ms/step - loss: 0.7209 - sparse_categorical_accuracy: 0.7480 - val_loss: 0.7021 - val_sparse_categorical_accuracy: 0.7586\n",
            "Epoch 21/30\n",
            "1875/1875 [==============================] - 6s 3ms/step - loss: 0.7195 - sparse_categorical_accuracy: 0.7477 - val_loss: 0.7013 - val_sparse_categorical_accuracy: 0.7572\n",
            "Epoch 22/30\n",
            "1875/1875 [==============================] - 6s 3ms/step - loss: 0.7186 - sparse_categorical_accuracy: 0.7490 - val_loss: 0.6996 - val_sparse_categorical_accuracy: 0.7624\n",
            "Epoch 23/30\n",
            "1875/1875 [==============================] - 7s 4ms/step - loss: 0.7172 - sparse_categorical_accuracy: 0.7485 - val_loss: 0.7006 - val_sparse_categorical_accuracy: 0.7576\n",
            "Epoch 24/30\n",
            "1875/1875 [==============================] - 7s 4ms/step - loss: 0.7164 - sparse_categorical_accuracy: 0.7483 - val_loss: 0.6995 - val_sparse_categorical_accuracy: 0.7600\n",
            "Epoch 25/30\n",
            "1875/1875 [==============================] - 7s 4ms/step - loss: 0.7153 - sparse_categorical_accuracy: 0.7495 - val_loss: 0.6971 - val_sparse_categorical_accuracy: 0.7619\n",
            "Epoch 26/30\n",
            "1875/1875 [==============================] - 7s 4ms/step - loss: 0.7147 - sparse_categorical_accuracy: 0.7486 - val_loss: 0.6984 - val_sparse_categorical_accuracy: 0.7593\n",
            "Epoch 27/30\n",
            "1875/1875 [==============================] - 7s 4ms/step - loss: 0.7135 - sparse_categorical_accuracy: 0.7494 - val_loss: 0.6968 - val_sparse_categorical_accuracy: 0.7599\n",
            "Epoch 28/30\n",
            "1875/1875 [==============================] - 6s 3ms/step - loss: 0.7130 - sparse_categorical_accuracy: 0.7494 - val_loss: 0.6967 - val_sparse_categorical_accuracy: 0.7593\n",
            "Epoch 29/30\n",
            "1875/1875 [==============================] - 7s 4ms/step - loss: 0.7124 - sparse_categorical_accuracy: 0.7500 - val_loss: 0.6973 - val_sparse_categorical_accuracy: 0.7569\n",
            "Epoch 30/30\n",
            "1875/1875 [==============================] - 6s 3ms/step - loss: 0.7115 - sparse_categorical_accuracy: 0.7499 - val_loss: 0.6965 - val_sparse_categorical_accuracy: 0.7567\n"
          ]
        },
        {
          "output_type": "execute_result",
          "data": {
            "text/plain": [
              "<keras.callbacks.History at 0x7faad019c910>"
            ]
          },
          "metadata": {},
          "execution_count": 11
        }
      ]
    },
    {
      "cell_type": "code",
      "source": [
        "model.summary()"
      ],
      "metadata": {
        "colab": {
          "base_uri": "https://localhost:8080/"
        },
        "id": "sNwG_yN_SOx_",
        "outputId": "d86de4ce-e495-4599-daed-d219277fd9c8"
      },
      "execution_count": 12,
      "outputs": [
        {
          "output_type": "stream",
          "name": "stdout",
          "text": [
            "Model: \"sequential\"\n",
            "_________________________________________________________________\n",
            " Layer (type)                Output Shape              Param #   \n",
            "=================================================================\n",
            " dense_2 (Dense)             (None, 30)                90        \n",
            "                                                                 \n",
            " dense_3 (Dense)             (None, 10)                310       \n",
            "                                                                 \n",
            "=================================================================\n",
            "Total params: 400\n",
            "Trainable params: 400\n",
            "Non-trainable params: 0\n",
            "_________________________________________________________________\n"
          ]
        }
      ]
    },
    {
      "cell_type": "code",
      "source": [
        "model.predict(z_mean)"
      ],
      "metadata": {
        "colab": {
          "base_uri": "https://localhost:8080/",
          "height": 367
        },
        "id": "c3mV1ggyNKVZ",
        "outputId": "b391e269-01bb-4267-9908-6fabedf8f832"
      },
      "execution_count": 13,
      "outputs": [
        {
          "output_type": "stream",
          "name": "stdout",
          "text": [
            "WARNING:tensorflow:Keras is training/fitting/evaluating on array-like data. Keras may not be optimized for this format, so if your input data format is supported by TensorFlow I/O (https://github.com/tensorflow/io) we recommend using that to load a Dataset instead.\n"
          ]
        },
        {
          "output_type": "error",
          "ename": "TypeError",
          "evalue": "ignored",
          "traceback": [
            "\u001b[0;31m---------------------------------------------------------------------------\u001b[0m",
            "\u001b[0;31mTypeError\u001b[0m                                 Traceback (most recent call last)",
            "\u001b[0;32m<ipython-input-13-01961220f789>\u001b[0m in \u001b[0;36m<module>\u001b[0;34m()\u001b[0m\n\u001b[0;32m----> 1\u001b[0;31m \u001b[0mmodel\u001b[0m\u001b[0;34m.\u001b[0m\u001b[0mpredict\u001b[0m\u001b[0;34m(\u001b[0m\u001b[0mz_mean\u001b[0m\u001b[0;34m)\u001b[0m\u001b[0;34m\u001b[0m\u001b[0;34m\u001b[0m\u001b[0m\n\u001b[0m",
            "\u001b[0;32m/usr/local/lib/python3.7/dist-packages/keras/utils/traceback_utils.py\u001b[0m in \u001b[0;36merror_handler\u001b[0;34m(*args, **kwargs)\u001b[0m\n\u001b[1;32m     65\u001b[0m     \u001b[0;32mexcept\u001b[0m \u001b[0mException\u001b[0m \u001b[0;32mas\u001b[0m \u001b[0me\u001b[0m\u001b[0;34m:\u001b[0m  \u001b[0;31m# pylint: disable=broad-except\u001b[0m\u001b[0;34m\u001b[0m\u001b[0;34m\u001b[0m\u001b[0m\n\u001b[1;32m     66\u001b[0m       \u001b[0mfiltered_tb\u001b[0m \u001b[0;34m=\u001b[0m \u001b[0m_process_traceback_frames\u001b[0m\u001b[0;34m(\u001b[0m\u001b[0me\u001b[0m\u001b[0;34m.\u001b[0m\u001b[0m__traceback__\u001b[0m\u001b[0;34m)\u001b[0m\u001b[0;34m\u001b[0m\u001b[0;34m\u001b[0m\u001b[0m\n\u001b[0;32m---> 67\u001b[0;31m       \u001b[0;32mraise\u001b[0m \u001b[0me\u001b[0m\u001b[0;34m.\u001b[0m\u001b[0mwith_traceback\u001b[0m\u001b[0;34m(\u001b[0m\u001b[0mfiltered_tb\u001b[0m\u001b[0;34m)\u001b[0m \u001b[0;32mfrom\u001b[0m \u001b[0;32mNone\u001b[0m\u001b[0;34m\u001b[0m\u001b[0;34m\u001b[0m\u001b[0m\n\u001b[0m\u001b[1;32m     68\u001b[0m     \u001b[0;32mfinally\u001b[0m\u001b[0;34m:\u001b[0m\u001b[0;34m\u001b[0m\u001b[0;34m\u001b[0m\u001b[0m\n\u001b[1;32m     69\u001b[0m       \u001b[0;32mdel\u001b[0m \u001b[0mfiltered_tb\u001b[0m\u001b[0;34m\u001b[0m\u001b[0;34m\u001b[0m\u001b[0m\n",
            "\u001b[0;32m/usr/local/lib/python3.7/dist-packages/keras/engine/data_adapter.py\u001b[0m in \u001b[0;36m<genexpr>\u001b[0;34m(.0)\u001b[0m\n\u001b[1;32m    243\u001b[0m     \u001b[0minputs\u001b[0m \u001b[0;34m=\u001b[0m \u001b[0mpack_x_y_sample_weight\u001b[0m\u001b[0;34m(\u001b[0m\u001b[0mx\u001b[0m\u001b[0;34m,\u001b[0m \u001b[0my\u001b[0m\u001b[0;34m,\u001b[0m \u001b[0msample_weights\u001b[0m\u001b[0;34m)\u001b[0m\u001b[0;34m\u001b[0m\u001b[0;34m\u001b[0m\u001b[0m\n\u001b[1;32m    244\u001b[0m \u001b[0;34m\u001b[0m\u001b[0m\n\u001b[0;32m--> 245\u001b[0;31m     \u001b[0mnum_samples\u001b[0m \u001b[0;34m=\u001b[0m \u001b[0mset\u001b[0m\u001b[0;34m(\u001b[0m\u001b[0mint\u001b[0m\u001b[0;34m(\u001b[0m\u001b[0mi\u001b[0m\u001b[0;34m.\u001b[0m\u001b[0mshape\u001b[0m\u001b[0;34m[\u001b[0m\u001b[0;36m0\u001b[0m\u001b[0;34m]\u001b[0m\u001b[0;34m)\u001b[0m \u001b[0;32mfor\u001b[0m \u001b[0mi\u001b[0m \u001b[0;32min\u001b[0m \u001b[0mtf\u001b[0m\u001b[0;34m.\u001b[0m\u001b[0mnest\u001b[0m\u001b[0;34m.\u001b[0m\u001b[0mflatten\u001b[0m\u001b[0;34m(\u001b[0m\u001b[0minputs\u001b[0m\u001b[0;34m)\u001b[0m\u001b[0;34m)\u001b[0m\u001b[0;34m.\u001b[0m\u001b[0mpop\u001b[0m\u001b[0;34m(\u001b[0m\u001b[0;34m)\u001b[0m\u001b[0;34m\u001b[0m\u001b[0;34m\u001b[0m\u001b[0m\n\u001b[0m\u001b[1;32m    246\u001b[0m     \u001b[0m_check_data_cardinality\u001b[0m\u001b[0;34m(\u001b[0m\u001b[0minputs\u001b[0m\u001b[0;34m)\u001b[0m\u001b[0;34m\u001b[0m\u001b[0;34m\u001b[0m\u001b[0m\n\u001b[1;32m    247\u001b[0m \u001b[0;34m\u001b[0m\u001b[0m\n",
            "\u001b[0;31mTypeError\u001b[0m: int() argument must be a string, a bytes-like object or a number, not 'NoneType'"
          ]
        }
      ]
    },
    {
      "cell_type": "code",
      "source": [
        "model.summary()"
      ],
      "metadata": {
        "id": "RYr4DkI3Nk-d"
      },
      "execution_count": null,
      "outputs": []
    }
  ]
}