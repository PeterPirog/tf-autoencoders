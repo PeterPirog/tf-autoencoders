{
  "nbformat": 4,
  "nbformat_minor": 0,
  "metadata": {
    "colab": {
      "name": "01-mnist-VAE_v3.ipynb",
      "provenance": [],
      "collapsed_sections": [],
      "authorship_tag": "ABX9TyNkDwJk2l0oIShO3uj2mQdf",
      "include_colab_link": true
    },
    "kernelspec": {
      "name": "python3",
      "display_name": "Python 3"
    },
    "language_info": {
      "name": "python"
    },
    "accelerator": "GPU"
  },
  "cells": [
    {
      "cell_type": "markdown",
      "metadata": {
        "id": "view-in-github",
        "colab_type": "text"
      },
      "source": [
        "<a href=\"https://colab.research.google.com/github/PeterPirog/tf-autoencoders/blob/main/01_mnist_VAE_v3.ipynb\" target=\"_parent\"><img src=\"https://colab.research.google.com/assets/colab-badge.svg\" alt=\"Open In Colab\"/></a>"
      ]
    },
    {
      "cell_type": "markdown",
      "source": [
        "https://keras.io/examples/generative/vae/\n",
        "Latent vector length =3\n",
        "\n",
        "https://harvard-iacs.github.io/2019-CS109B/labs/lab10/VAE-solutions/"
      ],
      "metadata": {
        "id": "BYzxx-LJDxRh"
      }
    },
    {
      "cell_type": "code",
      "execution_count": 1,
      "metadata": {
        "id": "0MDe9j_fDpu7"
      },
      "outputs": [],
      "source": [
        "# Setup\n",
        "import numpy as np\n",
        "import tensorflow as tf\n",
        "tf.random.seed(42)\n",
        "from tensorflow import keras\n",
        "from tensorflow.keras import layers\n",
        "\n",
        "EPOCHS=1000  # for vae training\n",
        "latent_dim = 3"
      ]
    },
    {
      "cell_type": "code",
      "source": [
        "# Create a sampling layer\n",
        "\n",
        "class Sampling(layers.Layer):\n",
        "    \"\"\"Uses (z_mean, z_log_var) to sample z, the vector encoding a digit.\"\"\"\n",
        "\n",
        "    def call(self, inputs):\n",
        "        z_mean, z_log_var = inputs\n",
        "        batch = tf.shape(z_mean)[0]\n",
        "        dim = tf.shape(z_mean)[1]\n",
        "        epsilon = tf.keras.backend.random_normal(shape=(batch, dim))\n",
        "        return z_mean + tf.exp(0.5 * z_log_var) * epsilon\n"
      ],
      "metadata": {
        "id": "azwMsEScD6fJ"
      },
      "execution_count": 2,
      "outputs": []
    },
    {
      "cell_type": "code",
      "source": [
        "# Build the encoder\n",
        "\n",
        "encoder_inputs = keras.Input(shape=(28, 28, 1))\n",
        "x = layers.Conv2D(32, 3, activation=\"relu\", strides=2, padding=\"same\")(encoder_inputs)\n",
        "x = layers.Conv2D(64, 3, activation=\"relu\", strides=2, padding=\"same\")(x)\n",
        "x = layers.Flatten()(x)\n",
        "x = layers.Dense(16, activation=\"relu\")(x)\n",
        "z_mean = layers.Dense(latent_dim, name=\"z_mean\")(x)\n",
        "z_log_var = layers.Dense(latent_dim, name=\"z_log_var\")(x)\n",
        "z = Sampling()([z_mean, z_log_var])\n",
        "encoder = keras.Model(encoder_inputs, [z_mean, z_log_var, z], name=\"encoder\")\n",
        "encoder.summary()\n"
      ],
      "metadata": {
        "colab": {
          "base_uri": "https://localhost:8080/"
        },
        "id": "jLxM8eNaD-6a",
        "outputId": "79405048-a9b6-435c-ed2f-7659b8b1736e"
      },
      "execution_count": 3,
      "outputs": [
        {
          "output_type": "stream",
          "name": "stdout",
          "text": [
            "Model: \"encoder\"\n",
            "__________________________________________________________________________________________________\n",
            " Layer (type)                   Output Shape         Param #     Connected to                     \n",
            "==================================================================================================\n",
            " input_1 (InputLayer)           [(None, 28, 28, 1)]  0           []                               \n",
            "                                                                                                  \n",
            " conv2d (Conv2D)                (None, 14, 14, 32)   320         ['input_1[0][0]']                \n",
            "                                                                                                  \n",
            " conv2d_1 (Conv2D)              (None, 7, 7, 64)     18496       ['conv2d[0][0]']                 \n",
            "                                                                                                  \n",
            " flatten (Flatten)              (None, 3136)         0           ['conv2d_1[0][0]']               \n",
            "                                                                                                  \n",
            " dense (Dense)                  (None, 16)           50192       ['flatten[0][0]']                \n",
            "                                                                                                  \n",
            " z_mean (Dense)                 (None, 3)            51          ['dense[0][0]']                  \n",
            "                                                                                                  \n",
            " z_log_var (Dense)              (None, 3)            51          ['dense[0][0]']                  \n",
            "                                                                                                  \n",
            " sampling (Sampling)            (None, 3)            0           ['z_mean[0][0]',                 \n",
            "                                                                  'z_log_var[0][0]']              \n",
            "                                                                                                  \n",
            "==================================================================================================\n",
            "Total params: 69,110\n",
            "Trainable params: 69,110\n",
            "Non-trainable params: 0\n",
            "__________________________________________________________________________________________________\n"
          ]
        }
      ]
    },
    {
      "cell_type": "code",
      "source": [
        "# Build the decoder\n",
        "\n",
        "latent_inputs = keras.Input(shape=(latent_dim,))\n",
        "x = layers.Dense(7 * 7 * 64, activation=\"relu\")(latent_inputs)\n",
        "x = layers.Reshape((7, 7, 64))(x)\n",
        "x = layers.Conv2DTranspose(64, 3, activation=\"relu\", strides=2, padding=\"same\")(x)\n",
        "x = layers.Conv2DTranspose(32, 3, activation=\"relu\", strides=2, padding=\"same\")(x)\n",
        "decoder_outputs = layers.Conv2DTranspose(1, 3, activation=\"sigmoid\", padding=\"same\")(x)\n",
        "decoder = keras.Model(latent_inputs, decoder_outputs, name=\"decoder\")\n",
        "decoder.summary()\n",
        "\n"
      ],
      "metadata": {
        "colab": {
          "base_uri": "https://localhost:8080/"
        },
        "id": "7BKuO7GHEDpB",
        "outputId": "1d8d14ec-0b3a-4442-eb84-a312fd417746"
      },
      "execution_count": 4,
      "outputs": [
        {
          "output_type": "stream",
          "name": "stdout",
          "text": [
            "Model: \"decoder\"\n",
            "_________________________________________________________________\n",
            " Layer (type)                Output Shape              Param #   \n",
            "=================================================================\n",
            " input_2 (InputLayer)        [(None, 3)]               0         \n",
            "                                                                 \n",
            " dense_1 (Dense)             (None, 3136)              12544     \n",
            "                                                                 \n",
            " reshape (Reshape)           (None, 7, 7, 64)          0         \n",
            "                                                                 \n",
            " conv2d_transpose (Conv2DTra  (None, 14, 14, 64)       36928     \n",
            " nspose)                                                         \n",
            "                                                                 \n",
            " conv2d_transpose_1 (Conv2DT  (None, 28, 28, 32)       18464     \n",
            " ranspose)                                                       \n",
            "                                                                 \n",
            " conv2d_transpose_2 (Conv2DT  (None, 28, 28, 1)        289       \n",
            " ranspose)                                                       \n",
            "                                                                 \n",
            "=================================================================\n",
            "Total params: 68,225\n",
            "Trainable params: 68,225\n",
            "Non-trainable params: 0\n",
            "_________________________________________________________________\n"
          ]
        }
      ]
    },
    {
      "cell_type": "code",
      "source": [
        "# Define the VAE as a Model with a custom train_step\n",
        "\n",
        "class VAE(keras.Model):\n",
        "    def __init__(self, encoder, decoder, **kwargs):\n",
        "        super(VAE, self).__init__(**kwargs)\n",
        "        self.encoder = encoder\n",
        "        self.decoder = decoder\n",
        "        self.total_loss_tracker = keras.metrics.Mean(name=\"total_loss\")\n",
        "        self.reconstruction_loss_tracker = keras.metrics.Mean(\n",
        "            name=\"reconstruction_loss\"\n",
        "        )\n",
        "        self.kl_loss_tracker = keras.metrics.Mean(name=\"kl_loss\")\n",
        "\n",
        "    @property\n",
        "    def metrics(self):\n",
        "        return [\n",
        "            self.total_loss_tracker,\n",
        "            self.reconstruction_loss_tracker,\n",
        "            self.kl_loss_tracker,\n",
        "        ]\n",
        "\n",
        "    def train_step(self, data):\n",
        "        with tf.GradientTape() as tape:\n",
        "            z_mean, z_log_var, z = self.encoder(data)\n",
        "            reconstruction = self.decoder(z)\n",
        "            reconstruction_loss = tf.reduce_mean(\n",
        "                tf.reduce_sum(\n",
        "                    keras.losses.binary_crossentropy(data, reconstruction), axis=(1, 2)\n",
        "                )\n",
        "            )\n",
        "            kl_loss = -0.5 * (1 + z_log_var - tf.square(z_mean) - tf.exp(z_log_var))\n",
        "            kl_loss = tf.reduce_mean(tf.reduce_sum(kl_loss, axis=1))\n",
        "            total_loss = reconstruction_loss + kl_loss\n",
        "        grads = tape.gradient(total_loss, self.trainable_weights)\n",
        "        self.optimizer.apply_gradients(zip(grads, self.trainable_weights))\n",
        "        self.total_loss_tracker.update_state(total_loss)\n",
        "        self.reconstruction_loss_tracker.update_state(reconstruction_loss)\n",
        "        self.kl_loss_tracker.update_state(kl_loss)\n",
        "        return {\n",
        "            \"loss\": self.total_loss_tracker.result(),\n",
        "            \"reconstruction_loss\": self.reconstruction_loss_tracker.result(),\n",
        "            \"kl_loss\": self.kl_loss_tracker.result(),\n",
        "        }\n",
        "\n"
      ],
      "metadata": {
        "id": "JL5qVupYEIEi"
      },
      "execution_count": 5,
      "outputs": []
    },
    {
      "cell_type": "code",
      "source": [
        "callbacks_vae=[tf.keras.callbacks.ReduceLROnPlateau(monitor='loss', \n",
        "                                                factor=0.5,\n",
        "                                                patience=3,\n",
        "                                                min_lr=1e-5),\n",
        "           tf.keras.callbacks.EarlyStopping(monitor='loss',\n",
        "                                            patience=5)]"
      ],
      "metadata": {
        "id": "Hh6ebn3aHXL5"
      },
      "execution_count": 6,
      "outputs": []
    },
    {
      "cell_type": "code",
      "source": [
        "# Train the VAE\n",
        "\n",
        "(x_train, _), (x_test, _) = keras.datasets.mnist.load_data()\n",
        "mnist_digits = np.concatenate([x_train, x_test], axis=0)\n",
        "mnist_digits = np.expand_dims(mnist_digits, -1).astype(\"float32\") / 255\n",
        "\n",
        "vae = VAE(encoder, decoder)\n",
        "vae.compile(optimizer=keras.optimizers.Adam())\n",
        "vae.fit(mnist_digits, epochs=EPOCHS, batch_size=128,callbacks=callbacks_vae)\n",
        "\n"
      ],
      "metadata": {
        "colab": {
          "base_uri": "https://localhost:8080/"
        },
        "id": "DCe0H3MSEPsa",
        "outputId": "fe7df910-4155-4028-ca94-b7042c5979d0"
      },
      "execution_count": 7,
      "outputs": [
        {
          "output_type": "stream",
          "name": "stdout",
          "text": [
            "Epoch 1/100\n",
            "547/547 [==============================] - 24s 33ms/step - loss: 253.9799 - reconstruction_loss: 201.9459 - kl_loss: 4.4360 - lr: 0.0010\n",
            "Epoch 2/100\n",
            "547/547 [==============================] - 17s 30ms/step - loss: 160.1301 - reconstruction_loss: 148.0192 - kl_loss: 7.2131 - lr: 0.0010\n",
            "Epoch 3/100\n",
            "547/547 [==============================] - 11s 21ms/step - loss: 147.9794 - reconstruction_loss: 139.5256 - kl_loss: 7.4960 - lr: 0.0010\n",
            "Epoch 4/100\n",
            "547/547 [==============================] - 10s 19ms/step - loss: 144.8101 - reconstruction_loss: 136.7199 - kl_loss: 7.6266 - lr: 0.0010\n",
            "Epoch 5/100\n",
            "547/547 [==============================] - 10s 19ms/step - loss: 143.2358 - reconstruction_loss: 135.0676 - kl_loss: 7.7323 - lr: 0.0010\n",
            "Epoch 6/100\n",
            "547/547 [==============================] - 10s 19ms/step - loss: 141.9437 - reconstruction_loss: 133.9101 - kl_loss: 7.8069 - lr: 0.0010\n",
            "Epoch 7/100\n",
            "547/547 [==============================] - 10s 19ms/step - loss: 141.0513 - reconstruction_loss: 133.0096 - kl_loss: 7.8646 - lr: 0.0010\n",
            "Epoch 8/100\n",
            "547/547 [==============================] - 10s 19ms/step - loss: 140.0955 - reconstruction_loss: 132.2612 - kl_loss: 7.9335 - lr: 0.0010\n",
            "Epoch 9/100\n",
            "547/547 [==============================] - 11s 20ms/step - loss: 139.7477 - reconstruction_loss: 131.6470 - kl_loss: 7.9786 - lr: 0.0010\n",
            "Epoch 10/100\n",
            "547/547 [==============================] - 11s 19ms/step - loss: 139.2263 - reconstruction_loss: 131.2083 - kl_loss: 8.0308 - lr: 0.0010\n",
            "Epoch 11/100\n",
            "547/547 [==============================] - 11s 20ms/step - loss: 139.0182 - reconstruction_loss: 130.7755 - kl_loss: 8.0745 - lr: 0.0010\n",
            "Epoch 12/100\n",
            "547/547 [==============================] - 10s 19ms/step - loss: 138.2467 - reconstruction_loss: 130.3686 - kl_loss: 8.1015 - lr: 0.0010\n",
            "Epoch 13/100\n",
            "547/547 [==============================] - 11s 20ms/step - loss: 138.3707 - reconstruction_loss: 130.0484 - kl_loss: 8.1160 - lr: 0.0010\n",
            "Epoch 14/100\n",
            "547/547 [==============================] - 10s 19ms/step - loss: 137.6990 - reconstruction_loss: 129.7145 - kl_loss: 8.1453 - lr: 0.0010\n",
            "Epoch 15/100\n",
            "547/547 [==============================] - 11s 20ms/step - loss: 137.5206 - reconstruction_loss: 129.4068 - kl_loss: 8.1966 - lr: 0.0010\n",
            "Epoch 16/100\n",
            "547/547 [==============================] - 10s 19ms/step - loss: 137.5167 - reconstruction_loss: 129.1379 - kl_loss: 8.1844 - lr: 0.0010\n",
            "Epoch 17/100\n",
            "547/547 [==============================] - 10s 19ms/step - loss: 136.9756 - reconstruction_loss: 128.8612 - kl_loss: 8.2417 - lr: 0.0010\n",
            "Epoch 18/100\n",
            "547/547 [==============================] - 10s 19ms/step - loss: 137.0193 - reconstruction_loss: 128.7251 - kl_loss: 8.2360 - lr: 0.0010\n",
            "Epoch 19/100\n",
            "547/547 [==============================] - 10s 19ms/step - loss: 136.5469 - reconstruction_loss: 128.5054 - kl_loss: 8.2380 - lr: 0.0010\n",
            "Epoch 20/100\n",
            "547/547 [==============================] - 10s 19ms/step - loss: 136.5134 - reconstruction_loss: 128.2800 - kl_loss: 8.2746 - lr: 0.0010\n",
            "Epoch 21/100\n",
            "547/547 [==============================] - 11s 19ms/step - loss: 136.5781 - reconstruction_loss: 128.1850 - kl_loss: 8.2989 - lr: 0.0010\n",
            "Epoch 22/100\n",
            "547/547 [==============================] - 11s 19ms/step - loss: 135.9829 - reconstruction_loss: 128.0020 - kl_loss: 8.3030 - lr: 0.0010\n",
            "Epoch 23/100\n",
            "547/547 [==============================] - 11s 19ms/step - loss: 136.3148 - reconstruction_loss: 127.8011 - kl_loss: 8.3136 - lr: 0.0010\n",
            "Epoch 24/100\n",
            "547/547 [==============================] - 11s 19ms/step - loss: 135.7000 - reconstruction_loss: 127.7110 - kl_loss: 8.3384 - lr: 0.0010\n",
            "Epoch 25/100\n",
            "547/547 [==============================] - 11s 19ms/step - loss: 135.8305 - reconstruction_loss: 127.5548 - kl_loss: 8.3370 - lr: 0.0010\n",
            "Epoch 26/100\n",
            "547/547 [==============================] - 11s 19ms/step - loss: 135.7501 - reconstruction_loss: 127.4289 - kl_loss: 8.3693 - lr: 0.0010\n",
            "Epoch 27/100\n",
            "547/547 [==============================] - 11s 19ms/step - loss: 135.5293 - reconstruction_loss: 127.2907 - kl_loss: 8.3662 - lr: 0.0010\n",
            "Epoch 28/100\n",
            "547/547 [==============================] - 10s 19ms/step - loss: 135.2139 - reconstruction_loss: 127.2060 - kl_loss: 8.3691 - lr: 0.0010\n",
            "Epoch 29/100\n",
            "547/547 [==============================] - 10s 19ms/step - loss: 135.8213 - reconstruction_loss: 127.0494 - kl_loss: 8.4000 - lr: 0.0010\n",
            "Epoch 30/100\n",
            "547/547 [==============================] - 10s 19ms/step - loss: 134.8861 - reconstruction_loss: 127.0026 - kl_loss: 8.4199 - lr: 0.0010\n",
            "Epoch 31/100\n",
            "547/547 [==============================] - 10s 19ms/step - loss: 135.3049 - reconstruction_loss: 126.8767 - kl_loss: 8.4097 - lr: 0.0010\n",
            "Epoch 32/100\n",
            "547/547 [==============================] - 10s 19ms/step - loss: 135.3739 - reconstruction_loss: 126.7858 - kl_loss: 8.4173 - lr: 0.0010\n",
            "Epoch 33/100\n",
            "547/547 [==============================] - 10s 19ms/step - loss: 134.9811 - reconstruction_loss: 126.7311 - kl_loss: 8.4390 - lr: 0.0010\n",
            "Epoch 34/100\n",
            "547/547 [==============================] - 10s 19ms/step - loss: 134.7401 - reconstruction_loss: 126.5972 - kl_loss: 8.4387 - lr: 0.0010\n",
            "Epoch 35/100\n",
            "547/547 [==============================] - 10s 19ms/step - loss: 134.8075 - reconstruction_loss: 126.5135 - kl_loss: 8.4572 - lr: 0.0010\n",
            "Epoch 36/100\n",
            "547/547 [==============================] - 10s 19ms/step - loss: 134.6249 - reconstruction_loss: 126.3875 - kl_loss: 8.4612 - lr: 0.0010\n",
            "Epoch 37/100\n",
            "547/547 [==============================] - 10s 19ms/step - loss: 134.5734 - reconstruction_loss: 126.3635 - kl_loss: 8.4426 - lr: 0.0010\n",
            "Epoch 38/100\n",
            "547/547 [==============================] - 10s 19ms/step - loss: 134.7851 - reconstruction_loss: 126.2137 - kl_loss: 8.4710 - lr: 0.0010\n",
            "Epoch 39/100\n",
            "547/547 [==============================] - 11s 19ms/step - loss: 134.3228 - reconstruction_loss: 126.2082 - kl_loss: 8.4807 - lr: 0.0010\n",
            "Epoch 40/100\n",
            "547/547 [==============================] - 10s 19ms/step - loss: 134.4950 - reconstruction_loss: 126.1424 - kl_loss: 8.4843 - lr: 0.0010\n",
            "Epoch 41/100\n",
            "547/547 [==============================] - 10s 19ms/step - loss: 134.3948 - reconstruction_loss: 126.0839 - kl_loss: 8.4911 - lr: 0.0010\n",
            "Epoch 42/100\n",
            "547/547 [==============================] - 10s 19ms/step - loss: 134.2019 - reconstruction_loss: 125.9212 - kl_loss: 8.4897 - lr: 0.0010\n",
            "Epoch 43/100\n",
            "547/547 [==============================] - 11s 19ms/step - loss: 134.1629 - reconstruction_loss: 125.9026 - kl_loss: 8.5029 - lr: 0.0010\n",
            "Epoch 44/100\n",
            "547/547 [==============================] - 10s 19ms/step - loss: 134.1474 - reconstruction_loss: 125.8155 - kl_loss: 8.5198 - lr: 0.0010\n",
            "Epoch 45/100\n",
            "547/547 [==============================] - 11s 19ms/step - loss: 133.9910 - reconstruction_loss: 125.7791 - kl_loss: 8.5189 - lr: 0.0010\n",
            "Epoch 46/100\n",
            "547/547 [==============================] - 10s 19ms/step - loss: 134.2403 - reconstruction_loss: 125.7619 - kl_loss: 8.5363 - lr: 0.0010\n",
            "Epoch 47/100\n",
            "547/547 [==============================] - 10s 19ms/step - loss: 133.8986 - reconstruction_loss: 125.6323 - kl_loss: 8.5289 - lr: 0.0010\n",
            "Epoch 48/100\n",
            "547/547 [==============================] - 10s 19ms/step - loss: 134.2409 - reconstruction_loss: 125.6419 - kl_loss: 8.5336 - lr: 0.0010\n",
            "Epoch 49/100\n",
            "547/547 [==============================] - 10s 19ms/step - loss: 134.1602 - reconstruction_loss: 125.5835 - kl_loss: 8.5340 - lr: 0.0010\n",
            "Epoch 50/100\n",
            "547/547 [==============================] - 11s 19ms/step - loss: 133.6154 - reconstruction_loss: 125.4310 - kl_loss: 8.5510 - lr: 0.0010\n",
            "Epoch 51/100\n",
            "547/547 [==============================] - 10s 19ms/step - loss: 133.8317 - reconstruction_loss: 125.4718 - kl_loss: 8.5558 - lr: 0.0010\n",
            "Epoch 52/100\n",
            "547/547 [==============================] - 10s 19ms/step - loss: 133.8980 - reconstruction_loss: 125.3415 - kl_loss: 8.5821 - lr: 0.0010\n",
            "Epoch 53/100\n",
            "547/547 [==============================] - 10s 19ms/step - loss: 133.3682 - reconstruction_loss: 125.2982 - kl_loss: 8.5660 - lr: 0.0010\n",
            "Epoch 54/100\n",
            "547/547 [==============================] - 10s 18ms/step - loss: 133.7945 - reconstruction_loss: 125.3266 - kl_loss: 8.5658 - lr: 0.0010\n",
            "Epoch 55/100\n",
            "547/547 [==============================] - 10s 19ms/step - loss: 133.9534 - reconstruction_loss: 125.1906 - kl_loss: 8.5737 - lr: 0.0010\n",
            "Epoch 56/100\n",
            "547/547 [==============================] - 10s 19ms/step - loss: 133.6076 - reconstruction_loss: 125.1741 - kl_loss: 8.5841 - lr: 0.0010\n",
            "Epoch 57/100\n",
            "547/547 [==============================] - 10s 19ms/step - loss: 133.8209 - reconstruction_loss: 125.1566 - kl_loss: 8.5801 - lr: 0.0010\n",
            "Epoch 58/100\n",
            "547/547 [==============================] - 10s 19ms/step - loss: 133.4258 - reconstruction_loss: 125.1184 - kl_loss: 8.5897 - lr: 0.0010\n",
            "Epoch 59/100\n",
            "547/547 [==============================] - 10s 19ms/step - loss: 133.4540 - reconstruction_loss: 125.0291 - kl_loss: 8.5953 - lr: 0.0010\n",
            "Epoch 60/100\n",
            "547/547 [==============================] - 10s 19ms/step - loss: 133.2139 - reconstruction_loss: 125.0338 - kl_loss: 8.6054 - lr: 0.0010\n",
            "Epoch 61/100\n",
            "547/547 [==============================] - 10s 19ms/step - loss: 133.4301 - reconstruction_loss: 124.9596 - kl_loss: 8.6086 - lr: 0.0010\n",
            "Epoch 62/100\n",
            "547/547 [==============================] - 10s 19ms/step - loss: 133.5044 - reconstruction_loss: 124.9043 - kl_loss: 8.5928 - lr: 0.0010\n",
            "Epoch 63/100\n",
            "547/547 [==============================] - 10s 19ms/step - loss: 133.2163 - reconstruction_loss: 124.8423 - kl_loss: 8.6008 - lr: 0.0010\n",
            "Epoch 64/100\n",
            "547/547 [==============================] - 10s 19ms/step - loss: 133.2897 - reconstruction_loss: 124.7974 - kl_loss: 8.6159 - lr: 0.0010\n",
            "Epoch 65/100\n",
            "547/547 [==============================] - 10s 19ms/step - loss: 133.2058 - reconstruction_loss: 124.8052 - kl_loss: 8.6195 - lr: 0.0010\n",
            "Epoch 66/100\n",
            "547/547 [==============================] - 11s 19ms/step - loss: 133.3055 - reconstruction_loss: 124.7540 - kl_loss: 8.6134 - lr: 0.0010\n",
            "Epoch 67/100\n",
            "547/547 [==============================] - 10s 19ms/step - loss: 132.7991 - reconstruction_loss: 124.6511 - kl_loss: 8.6234 - lr: 0.0010\n",
            "Epoch 68/100\n",
            "547/547 [==============================] - 10s 19ms/step - loss: 133.1665 - reconstruction_loss: 124.7124 - kl_loss: 8.6191 - lr: 0.0010\n",
            "Epoch 69/100\n",
            "547/547 [==============================] - 10s 19ms/step - loss: 133.1367 - reconstruction_loss: 124.6735 - kl_loss: 8.6334 - lr: 0.0010\n",
            "Epoch 70/100\n",
            "547/547 [==============================] - 10s 19ms/step - loss: 133.1837 - reconstruction_loss: 124.6049 - kl_loss: 8.6443 - lr: 0.0010\n",
            "Epoch 71/100\n",
            "547/547 [==============================] - 10s 19ms/step - loss: 133.2007 - reconstruction_loss: 124.5609 - kl_loss: 8.6457 - lr: 0.0010\n",
            "Epoch 72/100\n",
            "547/547 [==============================] - 10s 19ms/step - loss: 133.3224 - reconstruction_loss: 124.5469 - kl_loss: 8.6387 - lr: 0.0010\n",
            "Epoch 73/100\n",
            "547/547 [==============================] - 10s 19ms/step - loss: 133.1948 - reconstruction_loss: 124.4913 - kl_loss: 8.6630 - lr: 0.0010\n",
            "Epoch 74/100\n",
            "547/547 [==============================] - 11s 19ms/step - loss: 133.0123 - reconstruction_loss: 124.4951 - kl_loss: 8.6548 - lr: 0.0010\n",
            "Epoch 75/100\n",
            "547/547 [==============================] - 10s 19ms/step - loss: 132.9012 - reconstruction_loss: 124.3805 - kl_loss: 8.6674 - lr: 0.0010\n",
            "Epoch 76/100\n",
            "547/547 [==============================] - 10s 19ms/step - loss: 132.7850 - reconstruction_loss: 124.3855 - kl_loss: 8.6546 - lr: 0.0010\n",
            "Epoch 77/100\n",
            "547/547 [==============================] - 10s 19ms/step - loss: 132.7416 - reconstruction_loss: 124.3722 - kl_loss: 8.6489 - lr: 0.0010\n",
            "Epoch 78/100\n",
            "547/547 [==============================] - 10s 19ms/step - loss: 132.8730 - reconstruction_loss: 124.3573 - kl_loss: 8.6572 - lr: 0.0010\n",
            "Epoch 79/100\n",
            "547/547 [==============================] - 11s 19ms/step - loss: 132.8855 - reconstruction_loss: 124.2811 - kl_loss: 8.6580 - lr: 0.0010\n",
            "Epoch 80/100\n",
            "547/547 [==============================] - 10s 19ms/step - loss: 132.7380 - reconstruction_loss: 124.2567 - kl_loss: 8.6752 - lr: 0.0010\n",
            "Epoch 81/100\n",
            "547/547 [==============================] - 11s 19ms/step - loss: 132.7095 - reconstruction_loss: 124.2177 - kl_loss: 8.6849 - lr: 0.0010\n",
            "Epoch 82/100\n",
            "547/547 [==============================] - 11s 19ms/step - loss: 132.7945 - reconstruction_loss: 124.1819 - kl_loss: 8.6795 - lr: 0.0010\n",
            "Epoch 83/100\n",
            "547/547 [==============================] - 11s 19ms/step - loss: 132.5791 - reconstruction_loss: 124.1052 - kl_loss: 8.6803 - lr: 0.0010\n",
            "Epoch 84/100\n",
            "547/547 [==============================] - 10s 19ms/step - loss: 132.5544 - reconstruction_loss: 124.1749 - kl_loss: 8.6797 - lr: 0.0010\n",
            "Epoch 85/100\n",
            "547/547 [==============================] - 10s 19ms/step - loss: 133.1326 - reconstruction_loss: 124.1512 - kl_loss: 8.6933 - lr: 0.0010\n",
            "Epoch 86/100\n",
            "547/547 [==============================] - 11s 19ms/step - loss: 132.7724 - reconstruction_loss: 124.1241 - kl_loss: 8.6952 - lr: 0.0010\n",
            "Epoch 87/100\n",
            "547/547 [==============================] - 11s 19ms/step - loss: 132.0391 - reconstruction_loss: 123.1747 - kl_loss: 8.7307 - lr: 5.0000e-04\n",
            "Epoch 88/100\n",
            "547/547 [==============================] - 10s 19ms/step - loss: 131.6075 - reconstruction_loss: 123.0897 - kl_loss: 8.7446 - lr: 5.0000e-04\n",
            "Epoch 89/100\n",
            "547/547 [==============================] - 11s 19ms/step - loss: 131.8141 - reconstruction_loss: 123.0499 - kl_loss: 8.7425 - lr: 5.0000e-04\n",
            "Epoch 90/100\n",
            "547/547 [==============================] - 11s 19ms/step - loss: 131.5072 - reconstruction_loss: 123.0068 - kl_loss: 8.7705 - lr: 5.0000e-04\n",
            "Epoch 91/100\n",
            "547/547 [==============================] - 10s 19ms/step - loss: 131.7122 - reconstruction_loss: 123.0152 - kl_loss: 8.7709 - lr: 5.0000e-04\n",
            "Epoch 92/100\n",
            "547/547 [==============================] - 10s 19ms/step - loss: 131.5581 - reconstruction_loss: 122.9914 - kl_loss: 8.7600 - lr: 5.0000e-04\n",
            "Epoch 93/100\n",
            "547/547 [==============================] - 10s 19ms/step - loss: 131.4374 - reconstruction_loss: 122.9598 - kl_loss: 8.7732 - lr: 5.0000e-04\n",
            "Epoch 94/100\n",
            "547/547 [==============================] - 10s 19ms/step - loss: 131.7183 - reconstruction_loss: 122.9428 - kl_loss: 8.7809 - lr: 5.0000e-04\n",
            "Epoch 95/100\n",
            "547/547 [==============================] - 10s 19ms/step - loss: 131.5575 - reconstruction_loss: 122.8974 - kl_loss: 8.7898 - lr: 5.0000e-04\n",
            "Epoch 96/100\n",
            "547/547 [==============================] - 10s 19ms/step - loss: 131.6920 - reconstruction_loss: 122.9026 - kl_loss: 8.7844 - lr: 5.0000e-04\n",
            "Epoch 97/100\n",
            "547/547 [==============================] - 11s 19ms/step - loss: 131.6708 - reconstruction_loss: 122.8725 - kl_loss: 8.7878 - lr: 5.0000e-04\n",
            "Epoch 98/100\n",
            "547/547 [==============================] - 11s 19ms/step - loss: 131.4981 - reconstruction_loss: 122.8680 - kl_loss: 8.7980 - lr: 5.0000e-04\n",
            "Epoch 99/100\n",
            "547/547 [==============================] - 11s 19ms/step - loss: 131.4546 - reconstruction_loss: 122.8284 - kl_loss: 8.8000 - lr: 5.0000e-04\n",
            "Epoch 100/100\n",
            "547/547 [==============================] - 10s 19ms/step - loss: 131.6595 - reconstruction_loss: 122.8303 - kl_loss: 8.7856 - lr: 5.0000e-04\n"
          ]
        },
        {
          "output_type": "execute_result",
          "data": {
            "text/plain": [
              "<keras.callbacks.History at 0x7fd5601cc190>"
            ]
          },
          "metadata": {},
          "execution_count": 7
        }
      ]
    },
    {
      "cell_type": "code",
      "source": [
        "(x_train, y_train), (x_test, y_test) = keras.datasets.mnist.load_data()\n",
        "\n",
        "#Train data\n",
        "x_train = np.expand_dims(x_train, -1).astype(\"float32\") / 255\n",
        "z_mean_train, _, _ = vae.encoder.predict(x_train)\n",
        "\n",
        "#Test data\n",
        "x_test = np.expand_dims(x_test, -1).astype(\"float32\") / 255\n",
        "z_mean_test, _, _ = vae.encoder.predict(x_test)\n",
        "\n",
        "z_mean_train.shape\n",
        "\n"
      ],
      "metadata": {
        "colab": {
          "base_uri": "https://localhost:8080/"
        },
        "id": "c0UhR8QlJ-UK",
        "outputId": "d6343e04-25ad-4120-f268-dee639a22fb6"
      },
      "execution_count": 8,
      "outputs": [
        {
          "output_type": "execute_result",
          "data": {
            "text/plain": [
              "(60000, 3)"
            ]
          },
          "metadata": {},
          "execution_count": 8
        }
      ]
    },
    {
      "cell_type": "code",
      "source": [
        "model=keras.models.Sequential()\n",
        "model.add(keras.Input(shape=z_mean_train.shape[1:]))\n",
        "model.add(keras.layers.Dense(30,activation='relu'))\n",
        "model.add(keras.layers.Dense(10,activation='softmax'))"
      ],
      "metadata": {
        "id": "rZ2d5knMK93J"
      },
      "execution_count": 9,
      "outputs": []
    },
    {
      "cell_type": "code",
      "source": [
        "callbacks=[tf.keras.callbacks.ReduceLROnPlateau(monitor='val_loss', #val_loss\n",
        "                                                factor=0.5,\n",
        "                                                patience=3,\n",
        "                                                min_lr=1e-5),\n",
        "           tf.keras.callbacks.EarlyStopping(monitor='val_loss',\n",
        "                                            patience=5),\n",
        "           tf.keras.callbacks.ModelCheckpoint(filepath='my_model.h5',\n",
        "                                              monitor='val_loss',\n",
        "                                              save_best_only=True)]"
      ],
      "metadata": {
        "id": "hx8Miq7CdqQP"
      },
      "execution_count": 10,
      "outputs": []
    },
    {
      "cell_type": "code",
      "source": [
        "model.compile(loss=keras.losses.SparseCategoricalCrossentropy(),\n",
        "              optimizer=keras.optimizers.Adam(lr=0.001),\n",
        "              metrics=[keras.metrics.SparseCategoricalAccuracy()]) # "
      ],
      "metadata": {
        "colab": {
          "base_uri": "https://localhost:8080/"
        },
        "id": "GgSDLEghN5B_",
        "outputId": "c646fccb-7bc4-48bf-fb62-cce209577038"
      },
      "execution_count": 11,
      "outputs": [
        {
          "output_type": "stream",
          "name": "stderr",
          "text": [
            "/usr/local/lib/python3.7/dist-packages/keras/optimizer_v2/adam.py:105: UserWarning: The `lr` argument is deprecated, use `learning_rate` instead.\n",
            "  super(Adam, self).__init__(name, **kwargs)\n"
          ]
        }
      ]
    },
    {
      "cell_type": "code",
      "source": [
        "history=model.fit(x=z_mean_train,y=y_train,\n",
        "          epochs=100,\n",
        "          batch_size=32,\n",
        "          validation_data=(z_mean_test,y_test),\n",
        "          callbacks=callbacks) #"
      ],
      "metadata": {
        "colab": {
          "base_uri": "https://localhost:8080/"
        },
        "id": "0KB0PqkKOLF8",
        "outputId": "7cfd67b5-f3eb-446e-8327-48ab450e6bd8"
      },
      "execution_count": 12,
      "outputs": [
        {
          "output_type": "stream",
          "name": "stdout",
          "text": [
            "Epoch 1/100\n",
            "1875/1875 [==============================] - 7s 4ms/step - loss: 1.0045 - sparse_categorical_accuracy: 0.6819 - val_loss: 0.6897 - val_sparse_categorical_accuracy: 0.7792 - lr: 0.0010\n",
            "Epoch 2/100\n",
            "1875/1875 [==============================] - 6s 3ms/step - loss: 0.6548 - sparse_categorical_accuracy: 0.7908 - val_loss: 0.6110 - val_sparse_categorical_accuracy: 0.8011 - lr: 0.0010\n",
            "Epoch 3/100\n",
            "1875/1875 [==============================] - 6s 3ms/step - loss: 0.6044 - sparse_categorical_accuracy: 0.8079 - val_loss: 0.5773 - val_sparse_categorical_accuracy: 0.8181 - lr: 0.0010\n",
            "Epoch 4/100\n",
            "1875/1875 [==============================] - 6s 3ms/step - loss: 0.5822 - sparse_categorical_accuracy: 0.8146 - val_loss: 0.5621 - val_sparse_categorical_accuracy: 0.8189 - lr: 0.0010\n",
            "Epoch 5/100\n",
            "1875/1875 [==============================] - 7s 4ms/step - loss: 0.5688 - sparse_categorical_accuracy: 0.8185 - val_loss: 0.5517 - val_sparse_categorical_accuracy: 0.8162 - lr: 0.0010\n",
            "Epoch 6/100\n",
            "1875/1875 [==============================] - 7s 4ms/step - loss: 0.5588 - sparse_categorical_accuracy: 0.8201 - val_loss: 0.5388 - val_sparse_categorical_accuracy: 0.8254 - lr: 0.0010\n",
            "Epoch 7/100\n",
            "1875/1875 [==============================] - 7s 4ms/step - loss: 0.5506 - sparse_categorical_accuracy: 0.8236 - val_loss: 0.5342 - val_sparse_categorical_accuracy: 0.8244 - lr: 0.0010\n",
            "Epoch 8/100\n",
            "1875/1875 [==============================] - 6s 3ms/step - loss: 0.5445 - sparse_categorical_accuracy: 0.8259 - val_loss: 0.5269 - val_sparse_categorical_accuracy: 0.8269 - lr: 0.0010\n",
            "Epoch 9/100\n",
            "1875/1875 [==============================] - 6s 3ms/step - loss: 0.5390 - sparse_categorical_accuracy: 0.8266 - val_loss: 0.5235 - val_sparse_categorical_accuracy: 0.8262 - lr: 0.0010\n",
            "Epoch 10/100\n",
            "1875/1875 [==============================] - 6s 3ms/step - loss: 0.5346 - sparse_categorical_accuracy: 0.8301 - val_loss: 0.5188 - val_sparse_categorical_accuracy: 0.8288 - lr: 0.0010\n",
            "Epoch 11/100\n",
            "1875/1875 [==============================] - 7s 4ms/step - loss: 0.5312 - sparse_categorical_accuracy: 0.8288 - val_loss: 0.5158 - val_sparse_categorical_accuracy: 0.8307 - lr: 0.0010\n",
            "Epoch 12/100\n",
            "1875/1875 [==============================] - 7s 4ms/step - loss: 0.5275 - sparse_categorical_accuracy: 0.8312 - val_loss: 0.5143 - val_sparse_categorical_accuracy: 0.8279 - lr: 0.0010\n",
            "Epoch 13/100\n",
            "1875/1875 [==============================] - 7s 4ms/step - loss: 0.5254 - sparse_categorical_accuracy: 0.8321 - val_loss: 0.5111 - val_sparse_categorical_accuracy: 0.8351 - lr: 0.0010\n",
            "Epoch 14/100\n",
            "1875/1875 [==============================] - 6s 3ms/step - loss: 0.5229 - sparse_categorical_accuracy: 0.8325 - val_loss: 0.5154 - val_sparse_categorical_accuracy: 0.8278 - lr: 0.0010\n",
            "Epoch 15/100\n",
            "1875/1875 [==============================] - 7s 4ms/step - loss: 0.5209 - sparse_categorical_accuracy: 0.8333 - val_loss: 0.5074 - val_sparse_categorical_accuracy: 0.8357 - lr: 0.0010\n",
            "Epoch 16/100\n",
            "1875/1875 [==============================] - 7s 4ms/step - loss: 0.5191 - sparse_categorical_accuracy: 0.8339 - val_loss: 0.5052 - val_sparse_categorical_accuracy: 0.8344 - lr: 0.0010\n",
            "Epoch 17/100\n",
            "1875/1875 [==============================] - 7s 4ms/step - loss: 0.5175 - sparse_categorical_accuracy: 0.8348 - val_loss: 0.5036 - val_sparse_categorical_accuracy: 0.8353 - lr: 0.0010\n",
            "Epoch 18/100\n",
            "1875/1875 [==============================] - 7s 4ms/step - loss: 0.5162 - sparse_categorical_accuracy: 0.8345 - val_loss: 0.5026 - val_sparse_categorical_accuracy: 0.8348 - lr: 0.0010\n",
            "Epoch 19/100\n",
            "1875/1875 [==============================] - 6s 3ms/step - loss: 0.5148 - sparse_categorical_accuracy: 0.8349 - val_loss: 0.5008 - val_sparse_categorical_accuracy: 0.8362 - lr: 0.0010\n",
            "Epoch 20/100\n",
            "1875/1875 [==============================] - 7s 4ms/step - loss: 0.5140 - sparse_categorical_accuracy: 0.8357 - val_loss: 0.4995 - val_sparse_categorical_accuracy: 0.8366 - lr: 0.0010\n",
            "Epoch 21/100\n",
            "1875/1875 [==============================] - 7s 4ms/step - loss: 0.5127 - sparse_categorical_accuracy: 0.8349 - val_loss: 0.5009 - val_sparse_categorical_accuracy: 0.8356 - lr: 0.0010\n",
            "Epoch 22/100\n",
            "1875/1875 [==============================] - 7s 4ms/step - loss: 0.5121 - sparse_categorical_accuracy: 0.8351 - val_loss: 0.4974 - val_sparse_categorical_accuracy: 0.8372 - lr: 0.0010\n",
            "Epoch 23/100\n",
            "1875/1875 [==============================] - 7s 4ms/step - loss: 0.5106 - sparse_categorical_accuracy: 0.8352 - val_loss: 0.4973 - val_sparse_categorical_accuracy: 0.8363 - lr: 0.0010\n",
            "Epoch 24/100\n",
            "1875/1875 [==============================] - 6s 3ms/step - loss: 0.5100 - sparse_categorical_accuracy: 0.8367 - val_loss: 0.4972 - val_sparse_categorical_accuracy: 0.8379 - lr: 0.0010\n",
            "Epoch 25/100\n",
            "1875/1875 [==============================] - 7s 4ms/step - loss: 0.5093 - sparse_categorical_accuracy: 0.8346 - val_loss: 0.4959 - val_sparse_categorical_accuracy: 0.8385 - lr: 0.0010\n",
            "Epoch 26/100\n",
            "1875/1875 [==============================] - 6s 3ms/step - loss: 0.5085 - sparse_categorical_accuracy: 0.8353 - val_loss: 0.4980 - val_sparse_categorical_accuracy: 0.8369 - lr: 0.0010\n",
            "Epoch 27/100\n",
            "1875/1875 [==============================] - 6s 3ms/step - loss: 0.5078 - sparse_categorical_accuracy: 0.8364 - val_loss: 0.4956 - val_sparse_categorical_accuracy: 0.8396 - lr: 0.0010\n",
            "Epoch 28/100\n",
            "1875/1875 [==============================] - 7s 4ms/step - loss: 0.5073 - sparse_categorical_accuracy: 0.8369 - val_loss: 0.4944 - val_sparse_categorical_accuracy: 0.8371 - lr: 0.0010\n",
            "Epoch 29/100\n",
            "1875/1875 [==============================] - 7s 4ms/step - loss: 0.5070 - sparse_categorical_accuracy: 0.8365 - val_loss: 0.4961 - val_sparse_categorical_accuracy: 0.8357 - lr: 0.0010\n",
            "Epoch 30/100\n",
            "1875/1875 [==============================] - 7s 4ms/step - loss: 0.5061 - sparse_categorical_accuracy: 0.8364 - val_loss: 0.4959 - val_sparse_categorical_accuracy: 0.8384 - lr: 0.0010\n",
            "Epoch 31/100\n",
            "1875/1875 [==============================] - 7s 4ms/step - loss: 0.5055 - sparse_categorical_accuracy: 0.8360 - val_loss: 0.4914 - val_sparse_categorical_accuracy: 0.8391 - lr: 0.0010\n",
            "Epoch 32/100\n",
            "1875/1875 [==============================] - 6s 3ms/step - loss: 0.5049 - sparse_categorical_accuracy: 0.8368 - val_loss: 0.4938 - val_sparse_categorical_accuracy: 0.8373 - lr: 0.0010\n",
            "Epoch 33/100\n",
            "1875/1875 [==============================] - 6s 3ms/step - loss: 0.5047 - sparse_categorical_accuracy: 0.8366 - val_loss: 0.4931 - val_sparse_categorical_accuracy: 0.8400 - lr: 0.0010\n",
            "Epoch 34/100\n",
            "1875/1875 [==============================] - 7s 4ms/step - loss: 0.5043 - sparse_categorical_accuracy: 0.8366 - val_loss: 0.4958 - val_sparse_categorical_accuracy: 0.8365 - lr: 0.0010\n",
            "Epoch 35/100\n",
            "1875/1875 [==============================] - 6s 3ms/step - loss: 0.5021 - sparse_categorical_accuracy: 0.8373 - val_loss: 0.4903 - val_sparse_categorical_accuracy: 0.8383 - lr: 5.0000e-04\n",
            "Epoch 36/100\n",
            "1875/1875 [==============================] - 6s 3ms/step - loss: 0.5016 - sparse_categorical_accuracy: 0.8383 - val_loss: 0.4902 - val_sparse_categorical_accuracy: 0.8395 - lr: 5.0000e-04\n",
            "Epoch 37/100\n",
            "1875/1875 [==============================] - 7s 4ms/step - loss: 0.5014 - sparse_categorical_accuracy: 0.8377 - val_loss: 0.4888 - val_sparse_categorical_accuracy: 0.8392 - lr: 5.0000e-04\n",
            "Epoch 38/100\n",
            "1875/1875 [==============================] - 6s 3ms/step - loss: 0.5013 - sparse_categorical_accuracy: 0.8375 - val_loss: 0.4908 - val_sparse_categorical_accuracy: 0.8389 - lr: 5.0000e-04\n",
            "Epoch 39/100\n",
            "1875/1875 [==============================] - 7s 4ms/step - loss: 0.5008 - sparse_categorical_accuracy: 0.8382 - val_loss: 0.4908 - val_sparse_categorical_accuracy: 0.8394 - lr: 5.0000e-04\n",
            "Epoch 40/100\n",
            "1875/1875 [==============================] - 6s 3ms/step - loss: 0.5007 - sparse_categorical_accuracy: 0.8373 - val_loss: 0.4898 - val_sparse_categorical_accuracy: 0.8391 - lr: 5.0000e-04\n",
            "Epoch 41/100\n",
            "1875/1875 [==============================] - 7s 4ms/step - loss: 0.4996 - sparse_categorical_accuracy: 0.8377 - val_loss: 0.4889 - val_sparse_categorical_accuracy: 0.8393 - lr: 2.5000e-04\n",
            "Epoch 42/100\n",
            "1875/1875 [==============================] - 7s 4ms/step - loss: 0.4994 - sparse_categorical_accuracy: 0.8384 - val_loss: 0.4888 - val_sparse_categorical_accuracy: 0.8383 - lr: 2.5000e-04\n"
          ]
        }
      ]
    },
    {
      "cell_type": "code",
      "source": [
        "print(history.history.keys())\n",
        "#pd.DataFrame(history.history).plot()\n",
        "#plt.ylabel(\"loss\")\n",
        "#plt.xlabel(\"epochs\")\n",
        "acc=history.history['sparse_categorical_accuracy']\n",
        "val_acc=history.history['sparse_categorical_accuracy']\n",
        "loss=history.history['loss']\n",
        "val_loss=history.history['val_loss']\n",
        "\n",
        "epochs=range(1,len(acc)+1)"
      ],
      "metadata": {
        "colab": {
          "base_uri": "https://localhost:8080/"
        },
        "id": "sNwG_yN_SOx_",
        "outputId": "def2d275-e76b-4f75-9369-63decaa408da"
      },
      "execution_count": 13,
      "outputs": [
        {
          "output_type": "stream",
          "name": "stdout",
          "text": [
            "dict_keys(['loss', 'sparse_categorical_accuracy', 'val_loss', 'val_sparse_categorical_accuracy', 'lr'])\n"
          ]
        }
      ]
    },
    {
      "cell_type": "code",
      "source": [
        "import matplotlib.pyplot as plt\n",
        "plt.plot(epochs,loss,'bo',label='Train loss')\n",
        "plt.plot(epochs,val_loss,'g',label='Validation loss')\n",
        "plt.title('Losses')\n",
        "plt.xlabel('Epochs')\n",
        "plt.ylabel('Loss')\n",
        "plt.legend();\n"
      ],
      "metadata": {
        "colab": {
          "base_uri": "https://localhost:8080/",
          "height": 295
        },
        "id": "w0EiAkCAeMsF",
        "outputId": "adecac80-177d-4d40-b8d4-2e552e4f4b12"
      },
      "execution_count": 14,
      "outputs": [
        {
          "output_type": "display_data",
          "data": {
            "image/png": "[encoded data removed]",
            "text/plain": [
              "<Figure size 432x288 with 1 Axes>"
            ]
          },
          "metadata": {
            "needs_background": "light"
          }
        }
      ]
    },
    {
      "cell_type": "code",
      "source": [
        "plt.plot(epochs,acc,'bo',label='Train metric')\n",
        "plt.plot(epochs,val_acc,'g',label='Validation metric')\n",
        "plt.title('Metrics')\n",
        "plt.xlabel('Epochs')\n",
        "plt.ylabel('Metrics')\n",
        "plt.legend();"
      ],
      "metadata": {
        "colab": {
          "base_uri": "https://localhost:8080/",
          "height": 295
        },
        "id": "PmTxSV1xeU54",
        "outputId": "9a5b2fa4-07c6-407c-fcfd-87e9d4ace5ef"
      },
      "execution_count": 15,
      "outputs": [
        {
          "output_type": "display_data",
          "data": {
            "image/png": "[encoded data removed]",
            "text/plain": [
              "<Figure size 432x288 with 1 Axes>"
            ]
          },
          "metadata": {
            "needs_background": "light"
          }
        }
      ]
    }
  ]
}