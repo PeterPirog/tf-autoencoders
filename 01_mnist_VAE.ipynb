{
  "nbformat": 4,
  "nbformat_minor": 0,
  "metadata": {
    "colab": {
      "name": "01-mnist-VAE.ipynb",
      "provenance": [],
      "collapsed_sections": [],
      "authorship_tag": "ABX9TyM6At7WOhk1g+MUB9EZOhkW",
      "include_colab_link": true
    },
    "kernelspec": {
      "name": "python3",
      "display_name": "Python 3"
    },
    "language_info": {
      "name": "python"
    }
  },
  "cells": [
    {
      "cell_type": "markdown",
      "metadata": {
        "id": "view-in-github",
        "colab_type": "text"
      },
      "source": [
        "<a href=\"https://colab.research.google.com/github/PeterPirog/tf-autoencoders/blob/main/01_mnist_VAE.ipynb\" target=\"_parent\"><img src=\"https://colab.research.google.com/assets/colab-badge.svg\" alt=\"Open In Colab\"/></a>"
      ]
    },
    {
      "cell_type": "code",
      "execution_count": 1,
      "metadata": {
        "id": "Iey6lJGHKU2M"
      },
      "outputs": [],
      "source": [
        "#VAE CODER\n",
        "import tensorflow.keras as keras\n",
        "\n",
        "from keras import layers\n",
        "from keras import backend as K \n",
        "from keras.models import Model\n",
        "import numpy as np\n",
        "\n",
        "img_shape=(28,28,1)\n",
        "batch_size=16\n",
        "latent_dim =2\n",
        "\n",
        "input_img=keras.Input(shape=img_shape)\n",
        "\n",
        "x=layers.Conv2D(32,3,padding='same',activation='relu')(input_img)\n",
        "x=layers.Cov2D(64,3,padding='same',activation='relu',strides=(2,2))(x)\n"
      ]
    }
  ]
}