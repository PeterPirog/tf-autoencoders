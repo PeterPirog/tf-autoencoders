{
  "nbformat": 4,
  "nbformat_minor": 0,
  "metadata": {
    "colab": {
      "name": "01-mnist-VAE.ipynb",
      "provenance": [],
      "collapsed_sections": [],
      "authorship_tag": "ABX9TyMpa61un/kb6gZncHyXweCk",
      "include_colab_link": true
    },
    "kernelspec": {
      "name": "python3",
      "display_name": "Python 3"
    },
    "language_info": {
      "name": "python"
    }
  },
  "cells": [
    {
      "cell_type": "markdown",
      "metadata": {
        "id": "view-in-github",
        "colab_type": "text"
      },
      "source": [
        "<a href=\"https://colab.research.google.com/github/PeterPirog/tf-autoencoders/blob/main/01_mnist_VAE.ipynb\" target=\"_parent\"><img src=\"https://colab.research.google.com/assets/colab-badge.svg\" alt=\"Open In Colab\"/></a>"
      ]
    },
    {
      "cell_type": "code",
      "execution_count": 11,
      "metadata": {
        "id": "Iey6lJGHKU2M"
      },
      "outputs": [],
      "source": [
        "#VAE CODER\n",
        "import tensorflow.keras as keras\n",
        "\n",
        "from keras import layers\n",
        "from keras import backend as K \n",
        "from keras.models import Model\n",
        "import numpy as np\n",
        "\n",
        "img_shape=(28,28,1)\n",
        "batch_size=16\n",
        "latent_dim =2\n",
        "\n",
        "input_img=keras.Input(shape=img_shape)\n",
        "\n",
        "x=layers.Conv2D(32,3,padding='same',activation='relu')(input_img)\n",
        "x=layers.Conv2D(64,3,padding='same',activation='relu',strides=(2,2))(x)\n",
        "x=layers.Conv2D(64,3,padding='same',activation='relu')(x)\n",
        "x=layers.Conv2D(64,3,padding='same',activation='relu')(x)\n",
        "\n",
        "shape_before_flattening=K.int_shape(x)\n",
        "\n",
        "x=layers.Flatten()(x)\n",
        "x=layers.Dense(32,activation='relu')(x)\n",
        "\n",
        "z_mean=layers.Dense(latent_dim)(x)\n",
        "z_log_var=layers.Dense(latent_dim)(x)\n",
        "\n"
      ]
    },
    {
      "cell_type": "code",
      "source": [
        "\n",
        "# Sampling layer\n",
        "def sampling(args):\n",
        "  z_mean, z_log_var=args\n",
        "  epsilon=K.random_normal(shape=(K.shape(z_mean)[0],latent_dim),mean=0,stddev=1.)\n",
        "  return z_mean + K.exp(z_log_var)*epsilon\n",
        "\n",
        "z=layers.Lambda(sampling)([z_mean, z_log_var])"
      ],
      "metadata": {
        "id": "FTuXcv2369mo"
      },
      "execution_count": 12,
      "outputs": []
    },
    {
      "cell_type": "code",
      "source": [
        "# Layer to map latent vector to image\n",
        "decoder_input =layers.Input(K.int_shape(z)[1:])\n",
        "\n",
        "x=layers.Dense(np.prod(shape_before_flattening[1:]),activation='relu')(decoder_input)\n",
        "x=layers.Reshape(shape_before_flattening[1:])(x)\n",
        "x=layers.Conv2DTranspose(32,3,padding='same',activation='relu',strides=(2,2))(x)\n",
        "x=layers.Conv2D(1,3,padding='same',activation='sigmoid')(x)\n",
        "\n",
        "decoder = Model(decoder_input,x)\n",
        "z_decoded=decoder(z)\n",
        "decoder.summary()"
      ],
      "metadata": {
        "id": "aQ-TA-NF9rOW",
        "outputId": "5c62ffb6-72af-4508-a032-80b2b46a0667",
        "colab": {
          "base_uri": "https://localhost:8080/"
        }
      },
      "execution_count": 16,
      "outputs": [
        {
          "output_type": "stream",
          "name": "stdout",
          "text": [
            "Model: \"model_5\"\n",
            "_________________________________________________________________\n",
            " Layer (type)                Output Shape              Param #   \n",
            "=================================================================\n",
            " input_13 (InputLayer)       [(None, 2)]               0         \n",
            "                                                                 \n",
            " dense_19 (Dense)            (None, 12544)             37632     \n",
            "                                                                 \n",
            " reshape_6 (Reshape)         (None, 14, 14, 64)        0         \n",
            "                                                                 \n",
            " conv2d_transpose_11 (Conv2D  (None, 28, 28, 32)       18464     \n",
            " Transpose)                                                      \n",
            "                                                                 \n",
            " conv2d_17 (Conv2D)          (None, 28, 28, 1)         289       \n",
            "                                                                 \n",
            "=================================================================\n",
            "Total params: 56,385\n",
            "Trainable params: 56,385\n",
            "Non-trainable params: 0\n",
            "_________________________________________________________________\n"
          ]
        }
      ]
    }
  ]
}